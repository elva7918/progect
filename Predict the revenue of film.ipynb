{
 "cells": [
  {
   "cell_type": "markdown",
   "metadata": {},
   "source": [
    "## INTRODUCTION"
   ]
  },
  {
   "cell_type": "markdown",
   "metadata": {},
   "source": [
    "This notebook aims to predict the revenue from the content of the TMDB dataset that contains around 5000 movies and TV series. \n",
    "\n",
    "The contents of this notebook are as follows:\n",
    "\n",
    "1.Load Dataset and clean data : This section will revolve around exploring the data.(1)JSON format (2)Dropping Null & NA columns (3)Dropping Unnecessary Columns (4)Converting data into numeric label types (5)Statistics of each features\n",
    "\n",
    "2.Data Analysis: visualising some summary statistics.\n",
    "\n",
    "3.Feature Selection: Use Heat map to see the correlation between features and use PCA to calculate number of features to select\n",
    "\n",
    "4.Regression:Implementing 6 of Sklearn's linear models (Linear Regression, KNeighbors Regression, Decision Tree Regression, Random Forest Regression, Gradient Boosting Regression, Kernel Ridge Regression\n",
    ") and counts Mean absolute error, Mean squared error, Median squared error and R².\n",
    "\n",
    "5.Classification:Implementing 4 classification models (Random Forest, Naïve Bayes, SVM, Decision Tree) and counts accuracy.\n",
    "\n",
    "6.Prediction and Conclusion "
   ]
  },
  {
   "cell_type": "code",
   "execution_count": 1,
   "metadata": {
    "colab": {},
    "colab_type": "code",
    "id": "VF1YgpzS8n08"
   },
   "outputs": [],
   "source": [
    "import pandas as pd\n",
    "import matplotlib.pyplot as plt\n",
    "import seaborn as sns\n",
    "import numpy as np\n",
    "import json"
   ]
  },
  {
   "cell_type": "markdown",
   "metadata": {
    "colab_type": "text",
    "id": "SGqU23B79fBV"
   },
   "source": [
    "## 1. Data Cleaning"
   ]
  },
  {
   "cell_type": "markdown",
   "metadata": {
    "colab_type": "text",
    "id": "1JlxMyUA9fBX"
   },
   "source": [
    "### 1.1 Reading data from csv files and merge them into ONE dataframe"
   ]
  },
  {
   "cell_type": "code",
   "execution_count": 2,
   "metadata": {
    "colab": {},
    "colab_type": "code",
    "id": "XeOv59gX8n1l"
   },
   "outputs": [],
   "source": [
    "def load_tmdb_movies(path):\n",
    "    df = pd.read_csv(path)\n",
    "    df['release_date'] = pd.to_datetime(df['release_date']).apply(lambda x: x.date())\n",
    "    json_columns = ['genres', 'keywords', 'production_countries', 'production_companies', 'spoken_languages']\n",
    "    for column in json_columns:\n",
    "        df[column] = df[column].apply(json.loads)\n",
    "    return df\n",
    "\n",
    "def load_tmdb_credits(path):\n",
    "    df = pd.read_csv(path)\n",
    "    json_columns = ['cast', 'crew']\n",
    "    for column in json_columns:\n",
    "        df[column] = df[column].apply(json.loads)\n",
    "    return df\n",
    "\n",
    "LOST_COLUMNS = [\n",
    "    'actor_1_facebook_likes',\n",
    "    'actor_2_facebook_likes',\n",
    "    'actor_3_facebook_likes',\n",
    "    'aspect_ratio',\n",
    "    'cast_total_facebook_likes',\n",
    "    'color',\n",
    "    'content_rating',\n",
    "    'director_facebook_likes',\n",
    "    'facenumber_in_poster',\n",
    "    'movie_facebook_likes',\n",
    "    'movie_imdb_link',\n",
    "    'num_critic_for_reviews',\n",
    "    'num_user_for_reviews',\n",
    "                ]\n",
    "\n",
    "# Columns in TMDb that had direct equivalents in the IMDB version. \n",
    "# These columns can be used with old kernels just by changing the names\n",
    "TMDB_TO_IMDB_SIMPLE_EQUIVALENCIES = {\n",
    "    'budget': 'budget',\n",
    "    'genres': 'genres',\n",
    "    'revenue': 'revenue',\n",
    "    'title': 'movie_title',\n",
    "    'runtime': 'duration',\n",
    "    'original_language': 'original_language',  # it's possible that spoken_languages would be a better match\n",
    "    'keywords': 'plot_keywords',\n",
    "    'vote_count': 'num_voted_users',\n",
    "                                         }\n",
    "\n",
    "IMDB_COLUMNS_TO_REMAP = {'imdb_score': 'vote_average'}\n",
    "\n",
    "\n",
    "def safe_access(container, index_values):\n",
    "    # return a missing value rather than an error upon indexing/key failure\n",
    "    result = container\n",
    "    try:\n",
    "        for idx in index_values:\n",
    "            result = result[idx]\n",
    "        return result\n",
    "    except IndexError or KeyError:\n",
    "        return pd.np.nan\n",
    "\n",
    "def get_director(crew_data):\n",
    "    directors = [x['name'] for x in crew_data if x['job'] == 'Director']\n",
    "    directors_gender = [x['name'] for x in crew_data if x['job'] == 'Director']\n",
    "    return safe_access(directors,[0])\n",
    "\n",
    "def pipe_flatten_names(keywords):\n",
    "    return '|'.join([x['name'] for x in keywords])\n",
    "\n",
    "def convert_to_original_format(movies, credits):\n",
    "    # Converts TMDb data to make it as compatible as possible with kernels built on the original version of the data.\n",
    "    tmdb_movies = movies.copy()\n",
    "    tmdb_movies.rename(columns=TMDB_TO_IMDB_SIMPLE_EQUIVALENCIES, inplace=True)\n",
    "    tmdb_movies['year'] = pd.to_datetime(tmdb_movies['release_date']).apply(lambda x: x.year)\n",
    "    tmdb_movies['month'] = pd.to_datetime(tmdb_movies['release_date']).apply(lambda x: x.month)\n",
    "    tmdb_movies['day'] = pd.to_datetime(tmdb_movies['release_date']).apply(lambda x: x.day)\n",
    "    # I'm assuming that the first production country is equivalent, but have not been able to validate this\n",
    "    tmdb_movies['country'] = tmdb_movies['production_countries'].apply(lambda x: safe_access(x, [0, 'name']))\n",
    "    # tmdb_movies['language_1'] = tmdb_movies['spoken_languages'].apply(lambda x: safe_access(x, [0, 'iso_639_1']))\n",
    "    # tmdb_movies['language_2'] = tmdb_movies['spoken_languages'].apply(lambda x: safe_access(x, [1, 'iso_639_1']))\n",
    "    tmdb_movies['director_name'] = credits['crew'].apply(get_director)\n",
    "    tmdb_movies['actor_1_name'] = credits['cast'].apply(lambda x: safe_access(x, [0, 'name']))\n",
    "    tmdb_movies['actor_2_name'] = credits['cast'].apply(lambda x: safe_access(x, [1, 'name']))\n",
    "    tmdb_movies['actor_3_name'] = credits['cast'].apply(lambda x: safe_access(x, [2, 'name']))\n",
    "    tmdb_movies['actor_1_id'] = credits['cast'].apply(lambda x: safe_access(x, [0, 'id']))\n",
    "    tmdb_movies['actor_2_id'] = credits['cast'].apply(lambda x: safe_access(x, [1, 'id']))\n",
    "    tmdb_movies['actor_3_id'] = credits['cast'].apply(lambda x: safe_access(x, [2, 'id']))\n",
    "    tmdb_movies['companies_1'] = tmdb_movies['production_companies'].apply(lambda x: safe_access(x, [0, 'name']))\n",
    "    # tmdb_movies['companies_2'] = tmdb_movies['production_companies'].apply(lambda x: safe_access(x, [1, 'name']))\n",
    "    # tmdb_movies['companies_3'] = tmdb_movies['production_companies'].apply(lambda x: safe_access(x, [2, 'name']))\n",
    "    # tmdb_movies['genres'] = tmdb_movies['genres'].apply(lambda x: safe_access(x, [0,\"id\"]))\n",
    "    # tmdb_movies['plot_keywords'] = tmdb_movies['plot_keywords'].apply(pipe_flatten_names)\n",
    "    tmdb_movies['genres'] = tmdb_movies['genres'].apply(lambda x: safe_access(x, [0, 'name']))\n",
    "    return tmdb_movies"
   ]
  },
  {
   "cell_type": "code",
   "execution_count": 3,
   "metadata": {
    "colab": {},
    "colab_type": "code",
    "id": "IWvEoLRt8n1H"
   },
   "outputs": [],
   "source": [
    "movies = load_tmdb_movies(\"tmdb_5000_movies.csv\")\n",
    "credits = load_tmdb_credits(\"tmdb_5000_credits.csv\")\n",
    "data = convert_to_original_format(movies, credits)"
   ]
  },
  {
   "cell_type": "code",
   "execution_count": 4,
   "metadata": {
    "colab": {},
    "colab_type": "code",
    "id": "ITgG2UZncQ3n",
    "outputId": "0ba61009-5189-4f1f-c47c-7d5d5aada6b5",
    "scrolled": false
   },
   "outputs": [],
   "source": [
    "# data.value_counts().plot(kind='bar')\n",
    "# sns.countplot(data.value_count())\n",
    "# plt.plot(data.)\n",
    "# plt.plot(model_name,score_array)\n",
    "columns_Title = pd.DataFrame(data.columns)"
   ]
  },
  {
   "cell_type": "code",
   "execution_count": 5,
   "metadata": {},
   "outputs": [
    {
     "data": {
      "text/plain": [
       "32"
      ]
     },
     "execution_count": 5,
     "metadata": {},
     "output_type": "execute_result"
    }
   ],
   "source": [
    "len(data.columns)"
   ]
  },
  {
   "cell_type": "code",
   "execution_count": 6,
   "metadata": {
    "colab": {},
    "colab_type": "code",
    "id": "PhPuG-NrcQ3y",
    "outputId": "38654505-e60a-4b10-d4ab-e3e38fe1dff4",
    "scrolled": true
   },
   "outputs": [
    {
     "data": {
      "text/html": [
       "<div>\n",
       "<style scoped>\n",
       "    .dataframe tbody tr th:only-of-type {\n",
       "        vertical-align: middle;\n",
       "    }\n",
       "\n",
       "    .dataframe tbody tr th {\n",
       "        vertical-align: top;\n",
       "    }\n",
       "\n",
       "    .dataframe thead th {\n",
       "        text-align: right;\n",
       "    }\n",
       "</style>\n",
       "<table border=\"1\" class=\"dataframe\">\n",
       "  <thead>\n",
       "    <tr style=\"text-align: right;\">\n",
       "      <th></th>\n",
       "      <th>1</th>\n",
       "    </tr>\n",
       "  </thead>\n",
       "  <tbody>\n",
       "    <tr>\n",
       "      <th>budget</th>\n",
       "      <td>300000000</td>\n",
       "    </tr>\n",
       "    <tr>\n",
       "      <th>genres</th>\n",
       "      <td>Adventure</td>\n",
       "    </tr>\n",
       "    <tr>\n",
       "      <th>homepage</th>\n",
       "      <td>http://disney.go.com/disneypictures/pirates/</td>\n",
       "    </tr>\n",
       "    <tr>\n",
       "      <th>id</th>\n",
       "      <td>285</td>\n",
       "    </tr>\n",
       "    <tr>\n",
       "      <th>plot_keywords</th>\n",
       "      <td>[{'id': 270, 'name': 'ocean'}, {'id': 726, 'na...</td>\n",
       "    </tr>\n",
       "    <tr>\n",
       "      <th>original_language</th>\n",
       "      <td>en</td>\n",
       "    </tr>\n",
       "    <tr>\n",
       "      <th>original_title</th>\n",
       "      <td>Pirates of the Caribbean: At World's End</td>\n",
       "    </tr>\n",
       "    <tr>\n",
       "      <th>overview</th>\n",
       "      <td>Captain Barbossa, long believed to be dead, ha...</td>\n",
       "    </tr>\n",
       "    <tr>\n",
       "      <th>popularity</th>\n",
       "      <td>139.083</td>\n",
       "    </tr>\n",
       "    <tr>\n",
       "      <th>production_companies</th>\n",
       "      <td>[{'name': 'Walt Disney Pictures', 'id': 2}, {'...</td>\n",
       "    </tr>\n",
       "    <tr>\n",
       "      <th>production_countries</th>\n",
       "      <td>[{'iso_3166_1': 'US', 'name': 'United States o...</td>\n",
       "    </tr>\n",
       "    <tr>\n",
       "      <th>release_date</th>\n",
       "      <td>2007-05-19</td>\n",
       "    </tr>\n",
       "    <tr>\n",
       "      <th>revenue</th>\n",
       "      <td>961000000</td>\n",
       "    </tr>\n",
       "    <tr>\n",
       "      <th>duration</th>\n",
       "      <td>169</td>\n",
       "    </tr>\n",
       "    <tr>\n",
       "      <th>spoken_languages</th>\n",
       "      <td>[{'iso_639_1': 'en', 'name': 'English'}]</td>\n",
       "    </tr>\n",
       "    <tr>\n",
       "      <th>status</th>\n",
       "      <td>Released</td>\n",
       "    </tr>\n",
       "    <tr>\n",
       "      <th>tagline</th>\n",
       "      <td>At the end of the world, the adventure begins.</td>\n",
       "    </tr>\n",
       "    <tr>\n",
       "      <th>movie_title</th>\n",
       "      <td>Pirates of the Caribbean: At World's End</td>\n",
       "    </tr>\n",
       "    <tr>\n",
       "      <th>vote_average</th>\n",
       "      <td>6.9</td>\n",
       "    </tr>\n",
       "    <tr>\n",
       "      <th>num_voted_users</th>\n",
       "      <td>4500</td>\n",
       "    </tr>\n",
       "    <tr>\n",
       "      <th>year</th>\n",
       "      <td>2007</td>\n",
       "    </tr>\n",
       "    <tr>\n",
       "      <th>month</th>\n",
       "      <td>5</td>\n",
       "    </tr>\n",
       "    <tr>\n",
       "      <th>day</th>\n",
       "      <td>19</td>\n",
       "    </tr>\n",
       "    <tr>\n",
       "      <th>country</th>\n",
       "      <td>United States of America</td>\n",
       "    </tr>\n",
       "    <tr>\n",
       "      <th>director_name</th>\n",
       "      <td>Gore Verbinski</td>\n",
       "    </tr>\n",
       "    <tr>\n",
       "      <th>actor_1_name</th>\n",
       "      <td>Johnny Depp</td>\n",
       "    </tr>\n",
       "    <tr>\n",
       "      <th>actor_2_name</th>\n",
       "      <td>Orlando Bloom</td>\n",
       "    </tr>\n",
       "    <tr>\n",
       "      <th>actor_3_name</th>\n",
       "      <td>Keira Knightley</td>\n",
       "    </tr>\n",
       "    <tr>\n",
       "      <th>actor_1_id</th>\n",
       "      <td>85</td>\n",
       "    </tr>\n",
       "    <tr>\n",
       "      <th>actor_2_id</th>\n",
       "      <td>114</td>\n",
       "    </tr>\n",
       "    <tr>\n",
       "      <th>actor_3_id</th>\n",
       "      <td>116</td>\n",
       "    </tr>\n",
       "    <tr>\n",
       "      <th>companies_1</th>\n",
       "      <td>Walt Disney Pictures</td>\n",
       "    </tr>\n",
       "  </tbody>\n",
       "</table>\n",
       "</div>"
      ],
      "text/plain": [
       "                                                                      1\n",
       "budget                                                        300000000\n",
       "genres                                                        Adventure\n",
       "homepage                   http://disney.go.com/disneypictures/pirates/\n",
       "id                                                                  285\n",
       "plot_keywords         [{'id': 270, 'name': 'ocean'}, {'id': 726, 'na...\n",
       "original_language                                                    en\n",
       "original_title                 Pirates of the Caribbean: At World's End\n",
       "overview              Captain Barbossa, long believed to be dead, ha...\n",
       "popularity                                                      139.083\n",
       "production_companies  [{'name': 'Walt Disney Pictures', 'id': 2}, {'...\n",
       "production_countries  [{'iso_3166_1': 'US', 'name': 'United States o...\n",
       "release_date                                                 2007-05-19\n",
       "revenue                                                       961000000\n",
       "duration                                                            169\n",
       "spoken_languages               [{'iso_639_1': 'en', 'name': 'English'}]\n",
       "status                                                         Released\n",
       "tagline                  At the end of the world, the adventure begins.\n",
       "movie_title                    Pirates of the Caribbean: At World's End\n",
       "vote_average                                                        6.9\n",
       "num_voted_users                                                    4500\n",
       "year                                                               2007\n",
       "month                                                                 5\n",
       "day                                                                  19\n",
       "country                                        United States of America\n",
       "director_name                                            Gore Verbinski\n",
       "actor_1_name                                                Johnny Depp\n",
       "actor_2_name                                              Orlando Bloom\n",
       "actor_3_name                                            Keira Knightley\n",
       "actor_1_id                                                           85\n",
       "actor_2_id                                                          114\n",
       "actor_3_id                                                          116\n",
       "companies_1                                        Walt Disney Pictures"
      ]
     },
     "execution_count": 6,
     "metadata": {},
     "output_type": "execute_result"
    }
   ],
   "source": [
    "data5 = data.head()\n",
    "df1_transposed = data5.T\n",
    "df2 = pd.DataFrame(df1_transposed.loc[:,1])\n",
    "df2"
   ]
  },
  {
   "cell_type": "markdown",
   "metadata": {
    "colab_type": "text",
    "id": "7MLn5Unm9fBh"
   },
   "source": [
    "### 1.2 Dropping unnessary columns and rows"
   ]
  },
  {
   "cell_type": "code",
   "execution_count": 7,
   "metadata": {
    "colab": {},
    "colab_type": "code",
    "id": "Nxevap6i9fBj",
    "outputId": "7e30b598-5cdf-40da-dd86-5e6ccc2a9a6e"
   },
   "outputs": [
    {
     "data": {
      "text/plain": [
       "20"
      ]
     },
     "execution_count": 7,
     "metadata": {},
     "output_type": "execute_result"
    }
   ],
   "source": [
    "new_data = data.drop([\"id\",\n",
    "                      \"homepage\",\n",
    "                      \"overview\",\n",
    "                      \"spoken_languages\",\n",
    "                      \"status\", \n",
    "                      \"tagline\", \n",
    "                      \"original_title\", \n",
    "                      \"production_companies\", \n",
    "                      \"production_countries\", \n",
    "                      \"movie_title\", \n",
    "                      \"release_date\",\n",
    "                      \"plot_keywords\"], 1)\n",
    "len(new_data.columns)"
   ]
  },
  {
   "cell_type": "markdown",
   "metadata": {
    "colab_type": "text",
    "id": "Uq-n4xoX9fBo"
   },
   "source": [
    "### 1.3 Show number of nulls in each fields"
   ]
  },
  {
   "cell_type": "code",
   "execution_count": 8,
   "metadata": {
    "colab": {},
    "colab_type": "code",
    "id": "rP-qKJ8JBp5N",
    "outputId": "63318c19-2f7f-4973-fa9b-3cfedcb3bf6c"
   },
   "outputs": [
    {
     "name": "stdout",
     "output_type": "stream",
     "text": [
      "Missing Value in different columns\n"
     ]
    },
    {
     "data": {
      "text/plain": [
       "budget                 0\n",
       "genres                28\n",
       "original_language      0\n",
       "popularity             0\n",
       "revenue                0\n",
       "duration               2\n",
       "vote_average           0\n",
       "num_voted_users        0\n",
       "year                   1\n",
       "month                  1\n",
       "day                    1\n",
       "country              174\n",
       "director_name         30\n",
       "actor_1_name          43\n",
       "actor_2_name          53\n",
       "actor_3_name          63\n",
       "actor_1_id            43\n",
       "actor_2_id            53\n",
       "actor_3_id            63\n",
       "companies_1          351\n",
       "dtype: int64"
      ]
     },
     "execution_count": 8,
     "metadata": {},
     "output_type": "execute_result"
    }
   ],
   "source": [
    "print(\"Missing Value in different columns\")\n",
    "new_data.isnull().sum()"
   ]
  },
  {
   "cell_type": "markdown",
   "metadata": {
    "colab_type": "text",
    "id": "KNWe6nHB9fBx"
   },
   "source": [
    "### 1.4 Droping rows contains nulls"
   ]
  },
  {
   "cell_type": "code",
   "execution_count": 9,
   "metadata": {
    "colab": {},
    "colab_type": "code",
    "id": "H4fr3FIu9fBz",
    "outputId": "f3a7bfe7-fc08-46f4-f554-2854f41a5999"
   },
   "outputs": [
    {
     "data": {
      "text/plain": [
       "budget               0\n",
       "genres               0\n",
       "original_language    0\n",
       "popularity           0\n",
       "revenue              0\n",
       "duration             0\n",
       "vote_average         0\n",
       "num_voted_users      0\n",
       "year                 0\n",
       "month                0\n",
       "day                  0\n",
       "country              0\n",
       "director_name        0\n",
       "actor_1_name         0\n",
       "actor_2_name         0\n",
       "actor_3_name         0\n",
       "actor_1_id           0\n",
       "actor_2_id           0\n",
       "actor_3_id           0\n",
       "companies_1          0\n",
       "dtype: int64"
      ]
     },
     "execution_count": 9,
     "metadata": {},
     "output_type": "execute_result"
    }
   ],
   "source": [
    "new_data = new_data.dropna()\n",
    "new_data.isnull().sum()"
   ]
  },
  {
   "cell_type": "code",
   "execution_count": 10,
   "metadata": {
    "colab": {},
    "colab_type": "code",
    "id": "UNYaqt1r9fB4",
    "outputId": "b3cf7ef7-1ba5-4aaf-c8a7-ec202b65b8fe"
   },
   "outputs": [
    {
     "data": {
      "text/plain": [
       "4411"
      ]
     },
     "execution_count": 10,
     "metadata": {},
     "output_type": "execute_result"
    }
   ],
   "source": [
    "len(new_data)\n"
   ]
  },
  {
   "cell_type": "markdown",
   "metadata": {
    "colab_type": "text",
    "id": "3VwHs9zA9fB-"
   },
   "source": [
    "### 1.5 Converting string fields into label type"
   ]
  },
  {
   "cell_type": "code",
   "execution_count": 11,
   "metadata": {
    "colab": {},
    "colab_type": "code",
    "id": "aznqqGI7Auov"
   },
   "outputs": [
    {
     "data": {
      "text/html": [
       "<div>\n",
       "<style scoped>\n",
       "    .dataframe tbody tr th:only-of-type {\n",
       "        vertical-align: middle;\n",
       "    }\n",
       "\n",
       "    .dataframe tbody tr th {\n",
       "        vertical-align: top;\n",
       "    }\n",
       "\n",
       "    .dataframe thead th {\n",
       "        text-align: right;\n",
       "    }\n",
       "</style>\n",
       "<table border=\"1\" class=\"dataframe\">\n",
       "  <thead>\n",
       "    <tr style=\"text-align: right;\">\n",
       "      <th></th>\n",
       "      <th>original_language</th>\n",
       "      <th>original_language id</th>\n",
       "      <th>country</th>\n",
       "      <th>country id</th>\n",
       "      <th>companies_1</th>\n",
       "      <th>companies_1 id</th>\n",
       "      <th>director_name</th>\n",
       "      <th>director_name id</th>\n",
       "      <th>genres</th>\n",
       "      <th>genres id</th>\n",
       "    </tr>\n",
       "  </thead>\n",
       "  <tbody>\n",
       "    <tr>\n",
       "      <th>0</th>\n",
       "      <td>af</td>\n",
       "      <td>0</td>\n",
       "      <td>Afghanistan</td>\n",
       "      <td>0</td>\n",
       "      <td>100 Bares</td>\n",
       "      <td>0</td>\n",
       "      <td>Aaron Hann</td>\n",
       "      <td>0</td>\n",
       "      <td>Action</td>\n",
       "      <td>0.0</td>\n",
       "    </tr>\n",
       "    <tr>\n",
       "      <th>1</th>\n",
       "      <td>ar</td>\n",
       "      <td>1</td>\n",
       "      <td>Argentina</td>\n",
       "      <td>1</td>\n",
       "      <td>101st Street Films</td>\n",
       "      <td>1</td>\n",
       "      <td>Aaron Schneider</td>\n",
       "      <td>1</td>\n",
       "      <td>Adventure</td>\n",
       "      <td>1.0</td>\n",
       "    </tr>\n",
       "    <tr>\n",
       "      <th>2</th>\n",
       "      <td>cn</td>\n",
       "      <td>2</td>\n",
       "      <td>Aruba</td>\n",
       "      <td>2</td>\n",
       "      <td>1492 Pictures</td>\n",
       "      <td>2</td>\n",
       "      <td>Abel Ferrara</td>\n",
       "      <td>2</td>\n",
       "      <td>Animation</td>\n",
       "      <td>2.0</td>\n",
       "    </tr>\n",
       "    <tr>\n",
       "      <th>3</th>\n",
       "      <td>da</td>\n",
       "      <td>3</td>\n",
       "      <td>Australia</td>\n",
       "      <td>3</td>\n",
       "      <td>1818</td>\n",
       "      <td>3</td>\n",
       "      <td>Adam Brooks</td>\n",
       "      <td>3</td>\n",
       "      <td>Comedy</td>\n",
       "      <td>3.0</td>\n",
       "    </tr>\n",
       "    <tr>\n",
       "      <th>4</th>\n",
       "      <td>de</td>\n",
       "      <td>4</td>\n",
       "      <td>Austria</td>\n",
       "      <td>4</td>\n",
       "      <td>19 Entertainment</td>\n",
       "      <td>4</td>\n",
       "      <td>Adam Carolla</td>\n",
       "      <td>4</td>\n",
       "      <td>Crime</td>\n",
       "      <td>4.0</td>\n",
       "    </tr>\n",
       "    <tr>\n",
       "      <th>5</th>\n",
       "      <td>el</td>\n",
       "      <td>5</td>\n",
       "      <td>Bahamas</td>\n",
       "      <td>5</td>\n",
       "      <td>21 Laps Entertainment</td>\n",
       "      <td>5</td>\n",
       "      <td>Adam Green</td>\n",
       "      <td>5</td>\n",
       "      <td>Documentary</td>\n",
       "      <td>5.0</td>\n",
       "    </tr>\n",
       "    <tr>\n",
       "      <th>6</th>\n",
       "      <td>en</td>\n",
       "      <td>6</td>\n",
       "      <td>Belgium</td>\n",
       "      <td>6</td>\n",
       "      <td>26 Films</td>\n",
       "      <td>6</td>\n",
       "      <td>Adam Jay Epstein</td>\n",
       "      <td>6</td>\n",
       "      <td>Drama</td>\n",
       "      <td>6.0</td>\n",
       "    </tr>\n",
       "    <tr>\n",
       "      <th>7</th>\n",
       "      <td>es</td>\n",
       "      <td>7</td>\n",
       "      <td>Bhutan</td>\n",
       "      <td>7</td>\n",
       "      <td>2929 Productions</td>\n",
       "      <td>7</td>\n",
       "      <td>Adam Marcus</td>\n",
       "      <td>7</td>\n",
       "      <td>Family</td>\n",
       "      <td>7.0</td>\n",
       "    </tr>\n",
       "    <tr>\n",
       "      <th>8</th>\n",
       "      <td>fa</td>\n",
       "      <td>8</td>\n",
       "      <td>Bolivia</td>\n",
       "      <td>8</td>\n",
       "      <td>3 Arts Entertainment</td>\n",
       "      <td>8</td>\n",
       "      <td>Adam McKay</td>\n",
       "      <td>8</td>\n",
       "      <td>Fantasy</td>\n",
       "      <td>8.0</td>\n",
       "    </tr>\n",
       "    <tr>\n",
       "      <th>9</th>\n",
       "      <td>fr</td>\n",
       "      <td>9</td>\n",
       "      <td>Bosnia and Herzegovina</td>\n",
       "      <td>9</td>\n",
       "      <td>30 Something Productions</td>\n",
       "      <td>9</td>\n",
       "      <td>Adam Rapp</td>\n",
       "      <td>9</td>\n",
       "      <td>Foreign</td>\n",
       "      <td>9.0</td>\n",
       "    </tr>\n",
       "    <tr>\n",
       "      <th>10</th>\n",
       "      <td>he</td>\n",
       "      <td>10</td>\n",
       "      <td>Brazil</td>\n",
       "      <td>10</td>\n",
       "      <td>34th Street Films</td>\n",
       "      <td>10</td>\n",
       "      <td>Adam Rifkin</td>\n",
       "      <td>10</td>\n",
       "      <td>History</td>\n",
       "      <td>10.0</td>\n",
       "    </tr>\n",
       "    <tr>\n",
       "      <th>11</th>\n",
       "      <td>hi</td>\n",
       "      <td>11</td>\n",
       "      <td>Bulgaria</td>\n",
       "      <td>11</td>\n",
       "      <td>360 Pictures</td>\n",
       "      <td>11</td>\n",
       "      <td>Adam Shankman</td>\n",
       "      <td>11</td>\n",
       "      <td>Horror</td>\n",
       "      <td>11.0</td>\n",
       "    </tr>\n",
       "    <tr>\n",
       "      <th>12</th>\n",
       "      <td>id</td>\n",
       "      <td>12</td>\n",
       "      <td>Canada</td>\n",
       "      <td>12</td>\n",
       "      <td>3L Filmproduktion GmbH</td>\n",
       "      <td>12</td>\n",
       "      <td>Adrian Lyne</td>\n",
       "      <td>12</td>\n",
       "      <td>Music</td>\n",
       "      <td>12.0</td>\n",
       "    </tr>\n",
       "    <tr>\n",
       "      <th>13</th>\n",
       "      <td>is</td>\n",
       "      <td>13</td>\n",
       "      <td>China</td>\n",
       "      <td>13</td>\n",
       "      <td>3Mark Entertainment</td>\n",
       "      <td>13</td>\n",
       "      <td>Adrienne Shelly</td>\n",
       "      <td>13</td>\n",
       "      <td>Mystery</td>\n",
       "      <td>13.0</td>\n",
       "    </tr>\n",
       "    <tr>\n",
       "      <th>14</th>\n",
       "      <td>it</td>\n",
       "      <td>14</td>\n",
       "      <td>Cyprus</td>\n",
       "      <td>14</td>\n",
       "      <td>3rd Partner Productions</td>\n",
       "      <td>14</td>\n",
       "      <td>Agnieszka Holland</td>\n",
       "      <td>14</td>\n",
       "      <td>Romance</td>\n",
       "      <td>14.0</td>\n",
       "    </tr>\n",
       "    <tr>\n",
       "      <th>15</th>\n",
       "      <td>ja</td>\n",
       "      <td>15</td>\n",
       "      <td>Czech Republic</td>\n",
       "      <td>15</td>\n",
       "      <td>40 Acres &amp; A Mule Filmworks</td>\n",
       "      <td>15</td>\n",
       "      <td>Agnieszka Wojtowicz-Vosloo</td>\n",
       "      <td>15</td>\n",
       "      <td>Science Fiction</td>\n",
       "      <td>15.0</td>\n",
       "    </tr>\n",
       "    <tr>\n",
       "      <th>16</th>\n",
       "      <td>ko</td>\n",
       "      <td>16</td>\n",
       "      <td>Denmark</td>\n",
       "      <td>16</td>\n",
       "      <td>A Band Apart</td>\n",
       "      <td>16</td>\n",
       "      <td>Agustín Díaz Yanes</td>\n",
       "      <td>16</td>\n",
       "      <td>TV Movie</td>\n",
       "      <td>16.0</td>\n",
       "    </tr>\n",
       "    <tr>\n",
       "      <th>17</th>\n",
       "      <td>ky</td>\n",
       "      <td>17</td>\n",
       "      <td>Ecuador</td>\n",
       "      <td>17</td>\n",
       "      <td>A Bigger Boat</td>\n",
       "      <td>17</td>\n",
       "      <td>Akira Kurosawa</td>\n",
       "      <td>17</td>\n",
       "      <td>Thriller</td>\n",
       "      <td>17.0</td>\n",
       "    </tr>\n",
       "    <tr>\n",
       "      <th>18</th>\n",
       "      <td>nb</td>\n",
       "      <td>18</td>\n",
       "      <td>Fiji</td>\n",
       "      <td>18</td>\n",
       "      <td>A Loopy Production LLC</td>\n",
       "      <td>18</td>\n",
       "      <td>Akiva Goldsman</td>\n",
       "      <td>18</td>\n",
       "      <td>War</td>\n",
       "      <td>18.0</td>\n",
       "    </tr>\n",
       "    <tr>\n",
       "      <th>19</th>\n",
       "      <td>nl</td>\n",
       "      <td>19</td>\n",
       "      <td>Finland</td>\n",
       "      <td>19</td>\n",
       "      <td>A Space Between</td>\n",
       "      <td>19</td>\n",
       "      <td>Akiva Schaffer</td>\n",
       "      <td>19</td>\n",
       "      <td>Western</td>\n",
       "      <td>19.0</td>\n",
       "    </tr>\n",
       "    <tr>\n",
       "      <th>20</th>\n",
       "      <td>no</td>\n",
       "      <td>20</td>\n",
       "      <td>France</td>\n",
       "      <td>20</td>\n",
       "      <td>ABC Pictures</td>\n",
       "      <td>20</td>\n",
       "      <td>Alain Resnais</td>\n",
       "      <td>20</td>\n",
       "      <td>NaN</td>\n",
       "      <td>NaN</td>\n",
       "    </tr>\n",
       "    <tr>\n",
       "      <th>21</th>\n",
       "      <td>pl</td>\n",
       "      <td>21</td>\n",
       "      <td>Germany</td>\n",
       "      <td>21</td>\n",
       "      <td>ANA Media</td>\n",
       "      <td>21</td>\n",
       "      <td>Alan Alda</td>\n",
       "      <td>21</td>\n",
       "      <td>NaN</td>\n",
       "      <td>NaN</td>\n",
       "    </tr>\n",
       "    <tr>\n",
       "      <th>22</th>\n",
       "      <td>ps</td>\n",
       "      <td>22</td>\n",
       "      <td>Greece</td>\n",
       "      <td>22</td>\n",
       "      <td>ARTE</td>\n",
       "      <td>22</td>\n",
       "      <td>Alan Cohn</td>\n",
       "      <td>22</td>\n",
       "      <td>NaN</td>\n",
       "      <td>NaN</td>\n",
       "    </tr>\n",
       "    <tr>\n",
       "      <th>23</th>\n",
       "      <td>pt</td>\n",
       "      <td>23</td>\n",
       "      <td>Guadaloupe</td>\n",
       "      <td>23</td>\n",
       "      <td>AST Studios</td>\n",
       "      <td>23</td>\n",
       "      <td>Alan J. Pakula</td>\n",
       "      <td>23</td>\n",
       "      <td>NaN</td>\n",
       "      <td>NaN</td>\n",
       "    </tr>\n",
       "    <tr>\n",
       "      <th>24</th>\n",
       "      <td>ro</td>\n",
       "      <td>24</td>\n",
       "      <td>Hong Kong</td>\n",
       "      <td>24</td>\n",
       "      <td>AV Pictures</td>\n",
       "      <td>24</td>\n",
       "      <td>Alan Metter</td>\n",
       "      <td>24</td>\n",
       "      <td>NaN</td>\n",
       "      <td>NaN</td>\n",
       "    </tr>\n",
       "    <tr>\n",
       "      <th>25</th>\n",
       "      <td>ru</td>\n",
       "      <td>25</td>\n",
       "      <td>Hungary</td>\n",
       "      <td>25</td>\n",
       "      <td>AVCO Embassy Pictures</td>\n",
       "      <td>25</td>\n",
       "      <td>Alan Parker</td>\n",
       "      <td>25</td>\n",
       "      <td>NaN</td>\n",
       "      <td>NaN</td>\n",
       "    </tr>\n",
       "    <tr>\n",
       "      <th>26</th>\n",
       "      <td>sl</td>\n",
       "      <td>26</td>\n",
       "      <td>Iceland</td>\n",
       "      <td>26</td>\n",
       "      <td>Aardman Animations</td>\n",
       "      <td>26</td>\n",
       "      <td>Alan Poul</td>\n",
       "      <td>26</td>\n",
       "      <td>NaN</td>\n",
       "      <td>NaN</td>\n",
       "    </tr>\n",
       "    <tr>\n",
       "      <th>27</th>\n",
       "      <td>sv</td>\n",
       "      <td>27</td>\n",
       "      <td>India</td>\n",
       "      <td>27</td>\n",
       "      <td>Absinthe Productions</td>\n",
       "      <td>27</td>\n",
       "      <td>Alan Rudolph</td>\n",
       "      <td>27</td>\n",
       "      <td>NaN</td>\n",
       "      <td>NaN</td>\n",
       "    </tr>\n",
       "    <tr>\n",
       "      <th>28</th>\n",
       "      <td>ta</td>\n",
       "      <td>28</td>\n",
       "      <td>Indonesia</td>\n",
       "      <td>28</td>\n",
       "      <td>Acajou Films</td>\n",
       "      <td>28</td>\n",
       "      <td>Alan Shapiro</td>\n",
       "      <td>28</td>\n",
       "      <td>NaN</td>\n",
       "      <td>NaN</td>\n",
       "    </tr>\n",
       "    <tr>\n",
       "      <th>29</th>\n",
       "      <td>te</td>\n",
       "      <td>29</td>\n",
       "      <td>Iran</td>\n",
       "      <td>29</td>\n",
       "      <td>Access Motion Picture Group</td>\n",
       "      <td>29</td>\n",
       "      <td>Alan Smithee</td>\n",
       "      <td>29</td>\n",
       "      <td>NaN</td>\n",
       "      <td>NaN</td>\n",
       "    </tr>\n",
       "    <tr>\n",
       "      <th>30</th>\n",
       "      <td>th</td>\n",
       "      <td>30</td>\n",
       "      <td>Ireland</td>\n",
       "      <td>30</td>\n",
       "      <td>Act III Communications</td>\n",
       "      <td>30</td>\n",
       "      <td>Alan Taylor</td>\n",
       "      <td>30</td>\n",
       "      <td>NaN</td>\n",
       "      <td>NaN</td>\n",
       "    </tr>\n",
       "    <tr>\n",
       "      <th>31</th>\n",
       "      <td>tr</td>\n",
       "      <td>31</td>\n",
       "      <td>Israel</td>\n",
       "      <td>31</td>\n",
       "      <td>Ad Hominem Enterprises</td>\n",
       "      <td>31</td>\n",
       "      <td>Alan Yuen</td>\n",
       "      <td>31</td>\n",
       "      <td>NaN</td>\n",
       "      <td>NaN</td>\n",
       "    </tr>\n",
       "    <tr>\n",
       "      <th>32</th>\n",
       "      <td>xx</td>\n",
       "      <td>32</td>\n",
       "      <td>Italy</td>\n",
       "      <td>32</td>\n",
       "      <td>AdScott Pictures</td>\n",
       "      <td>32</td>\n",
       "      <td>Albert Brooks</td>\n",
       "      <td>32</td>\n",
       "      <td>NaN</td>\n",
       "      <td>NaN</td>\n",
       "    </tr>\n",
       "    <tr>\n",
       "      <th>33</th>\n",
       "      <td>zh</td>\n",
       "      <td>33</td>\n",
       "      <td>Jamaica</td>\n",
       "      <td>33</td>\n",
       "      <td>Ada Films</td>\n",
       "      <td>33</td>\n",
       "      <td>Albert Hughes</td>\n",
       "      <td>33</td>\n",
       "      <td>NaN</td>\n",
       "      <td>NaN</td>\n",
       "    </tr>\n",
       "  </tbody>\n",
       "</table>\n",
       "</div>"
      ],
      "text/plain": [
       "   original_language  original_language id                 country  \\\n",
       "0                 af                     0             Afghanistan   \n",
       "1                 ar                     1               Argentina   \n",
       "2                 cn                     2                   Aruba   \n",
       "3                 da                     3               Australia   \n",
       "4                 de                     4                 Austria   \n",
       "5                 el                     5                 Bahamas   \n",
       "6                 en                     6                 Belgium   \n",
       "7                 es                     7                  Bhutan   \n",
       "8                 fa                     8                 Bolivia   \n",
       "9                 fr                     9  Bosnia and Herzegovina   \n",
       "10                he                    10                  Brazil   \n",
       "11                hi                    11                Bulgaria   \n",
       "12                id                    12                  Canada   \n",
       "13                is                    13                   China   \n",
       "14                it                    14                  Cyprus   \n",
       "15                ja                    15          Czech Republic   \n",
       "16                ko                    16                 Denmark   \n",
       "17                ky                    17                 Ecuador   \n",
       "18                nb                    18                    Fiji   \n",
       "19                nl                    19                 Finland   \n",
       "20                no                    20                  France   \n",
       "21                pl                    21                 Germany   \n",
       "22                ps                    22                  Greece   \n",
       "23                pt                    23              Guadaloupe   \n",
       "24                ro                    24               Hong Kong   \n",
       "25                ru                    25                 Hungary   \n",
       "26                sl                    26                 Iceland   \n",
       "27                sv                    27                   India   \n",
       "28                ta                    28               Indonesia   \n",
       "29                te                    29                    Iran   \n",
       "30                th                    30                 Ireland   \n",
       "31                tr                    31                  Israel   \n",
       "32                xx                    32                   Italy   \n",
       "33                zh                    33                 Jamaica   \n",
       "\n",
       "    country id                  companies_1  companies_1 id  \\\n",
       "0            0                    100 Bares               0   \n",
       "1            1           101st Street Films               1   \n",
       "2            2                1492 Pictures               2   \n",
       "3            3                         1818               3   \n",
       "4            4             19 Entertainment               4   \n",
       "5            5        21 Laps Entertainment               5   \n",
       "6            6                     26 Films               6   \n",
       "7            7             2929 Productions               7   \n",
       "8            8         3 Arts Entertainment               8   \n",
       "9            9     30 Something Productions               9   \n",
       "10          10            34th Street Films              10   \n",
       "11          11                 360 Pictures              11   \n",
       "12          12       3L Filmproduktion GmbH              12   \n",
       "13          13          3Mark Entertainment              13   \n",
       "14          14      3rd Partner Productions              14   \n",
       "15          15  40 Acres & A Mule Filmworks              15   \n",
       "16          16                 A Band Apart              16   \n",
       "17          17                A Bigger Boat              17   \n",
       "18          18       A Loopy Production LLC              18   \n",
       "19          19              A Space Between              19   \n",
       "20          20                 ABC Pictures              20   \n",
       "21          21                    ANA Media              21   \n",
       "22          22                         ARTE              22   \n",
       "23          23                  AST Studios              23   \n",
       "24          24                  AV Pictures              24   \n",
       "25          25        AVCO Embassy Pictures              25   \n",
       "26          26           Aardman Animations              26   \n",
       "27          27         Absinthe Productions              27   \n",
       "28          28                 Acajou Films              28   \n",
       "29          29  Access Motion Picture Group              29   \n",
       "30          30       Act III Communications              30   \n",
       "31          31       Ad Hominem Enterprises              31   \n",
       "32          32             AdScott Pictures              32   \n",
       "33          33                    Ada Films              33   \n",
       "\n",
       "                 director_name  director_name id           genres  genres id  \n",
       "0                   Aaron Hann                 0           Action        0.0  \n",
       "1              Aaron Schneider                 1        Adventure        1.0  \n",
       "2                 Abel Ferrara                 2        Animation        2.0  \n",
       "3                  Adam Brooks                 3           Comedy        3.0  \n",
       "4                 Adam Carolla                 4            Crime        4.0  \n",
       "5                   Adam Green                 5      Documentary        5.0  \n",
       "6             Adam Jay Epstein                 6            Drama        6.0  \n",
       "7                  Adam Marcus                 7           Family        7.0  \n",
       "8                   Adam McKay                 8          Fantasy        8.0  \n",
       "9                    Adam Rapp                 9          Foreign        9.0  \n",
       "10                 Adam Rifkin                10          History       10.0  \n",
       "11               Adam Shankman                11           Horror       11.0  \n",
       "12                 Adrian Lyne                12            Music       12.0  \n",
       "13             Adrienne Shelly                13          Mystery       13.0  \n",
       "14           Agnieszka Holland                14          Romance       14.0  \n",
       "15  Agnieszka Wojtowicz-Vosloo                15  Science Fiction       15.0  \n",
       "16          Agustín Díaz Yanes                16         TV Movie       16.0  \n",
       "17              Akira Kurosawa                17         Thriller       17.0  \n",
       "18              Akiva Goldsman                18              War       18.0  \n",
       "19              Akiva Schaffer                19          Western       19.0  \n",
       "20               Alain Resnais                20              NaN        NaN  \n",
       "21                   Alan Alda                21              NaN        NaN  \n",
       "22                   Alan Cohn                22              NaN        NaN  \n",
       "23              Alan J. Pakula                23              NaN        NaN  \n",
       "24                 Alan Metter                24              NaN        NaN  \n",
       "25                 Alan Parker                25              NaN        NaN  \n",
       "26                   Alan Poul                26              NaN        NaN  \n",
       "27                Alan Rudolph                27              NaN        NaN  \n",
       "28                Alan Shapiro                28              NaN        NaN  \n",
       "29                Alan Smithee                29              NaN        NaN  \n",
       "30                 Alan Taylor                30              NaN        NaN  \n",
       "31                   Alan Yuen                31              NaN        NaN  \n",
       "32               Albert Brooks                32              NaN        NaN  \n",
       "33               Albert Hughes                33              NaN        NaN  "
      ]
     },
     "execution_count": 11,
     "metadata": {},
     "output_type": "execute_result"
    }
   ],
   "source": [
    "from sklearn import preprocessing\n",
    "le = preprocessing.LabelEncoder()\n",
    "\n",
    "name_list = []\n",
    "id_list = []\n",
    "allTable = pd.DataFrame()\n",
    "string_list = [\"original_language\", \"country\", \"companies_1\",\"director_name\",\"genres\"]\n",
    "\n",
    "for x in string_list:\n",
    "    new_data[x] = le.fit_transform(new_data[x].astype(\"str\"))\n",
    "\n",
    "    for (k,v) in enumerate(le.classes_):\n",
    "        name_list.append(v)\n",
    "        id_list.append(k)\n",
    "        \n",
    "#     id_name_list = (name_list,id_list)  \n",
    "    allTable[x] = pd.Series(name_list)\n",
    "    allTable[x+\" id\"] = pd.Series(id_list)\n",
    "    #print(allTable)\n",
    "    name_list.clear()\n",
    "    id_list.clear()\n",
    "    \n",
    "allTable"
   ]
  },
  {
   "cell_type": "code",
   "execution_count": 12,
   "metadata": {},
   "outputs": [
    {
     "data": {
      "text/html": [
       "<div>\n",
       "<style scoped>\n",
       "    .dataframe tbody tr th:only-of-type {\n",
       "        vertical-align: middle;\n",
       "    }\n",
       "\n",
       "    .dataframe tbody tr th {\n",
       "        vertical-align: top;\n",
       "    }\n",
       "\n",
       "    .dataframe thead th {\n",
       "        text-align: right;\n",
       "    }\n",
       "</style>\n",
       "<table border=\"1\" class=\"dataframe\">\n",
       "  <thead>\n",
       "    <tr style=\"text-align: right;\">\n",
       "      <th></th>\n",
       "      <th>actor_1_name</th>\n",
       "      <th>actor_1_id</th>\n",
       "      <th>actor_2_name</th>\n",
       "      <th>actor_2_id</th>\n",
       "      <th>actor_3_name</th>\n",
       "      <th>actor_3_id</th>\n",
       "    </tr>\n",
       "  </thead>\n",
       "  <tbody>\n",
       "    <tr>\n",
       "      <th>0</th>\n",
       "      <td>Sam Worthington</td>\n",
       "      <td>65731.0</td>\n",
       "      <td>Zoe Saldana</td>\n",
       "      <td>8691.0</td>\n",
       "      <td>Sigourney Weaver</td>\n",
       "      <td>10205.0</td>\n",
       "    </tr>\n",
       "    <tr>\n",
       "      <th>1</th>\n",
       "      <td>Johnny Depp</td>\n",
       "      <td>85.0</td>\n",
       "      <td>Orlando Bloom</td>\n",
       "      <td>114.0</td>\n",
       "      <td>Keira Knightley</td>\n",
       "      <td>116.0</td>\n",
       "    </tr>\n",
       "    <tr>\n",
       "      <th>2</th>\n",
       "      <td>Daniel Craig</td>\n",
       "      <td>8784.0</td>\n",
       "      <td>Christoph Waltz</td>\n",
       "      <td>27319.0</td>\n",
       "      <td>Léa Seydoux</td>\n",
       "      <td>121529.0</td>\n",
       "    </tr>\n",
       "    <tr>\n",
       "      <th>3</th>\n",
       "      <td>Christian Bale</td>\n",
       "      <td>3894.0</td>\n",
       "      <td>Michael Caine</td>\n",
       "      <td>3895.0</td>\n",
       "      <td>Gary Oldman</td>\n",
       "      <td>64.0</td>\n",
       "    </tr>\n",
       "    <tr>\n",
       "      <th>4</th>\n",
       "      <td>Taylor Kitsch</td>\n",
       "      <td>60900.0</td>\n",
       "      <td>Lynn Collins</td>\n",
       "      <td>21044.0</td>\n",
       "      <td>Samantha Morton</td>\n",
       "      <td>2206.0</td>\n",
       "    </tr>\n",
       "    <tr>\n",
       "      <th>5</th>\n",
       "      <td>Tobey Maguire</td>\n",
       "      <td>2219.0</td>\n",
       "      <td>Kirsten Dunst</td>\n",
       "      <td>205.0</td>\n",
       "      <td>James Franco</td>\n",
       "      <td>17051.0</td>\n",
       "    </tr>\n",
       "    <tr>\n",
       "      <th>6</th>\n",
       "      <td>Zachary Levi</td>\n",
       "      <td>69899.0</td>\n",
       "      <td>Mandy Moore</td>\n",
       "      <td>16855.0</td>\n",
       "      <td>Donna Murphy</td>\n",
       "      <td>2517.0</td>\n",
       "    </tr>\n",
       "    <tr>\n",
       "      <th>7</th>\n",
       "      <td>Robert Downey Jr.</td>\n",
       "      <td>3223.0</td>\n",
       "      <td>Chris Hemsworth</td>\n",
       "      <td>74568.0</td>\n",
       "      <td>Mark Ruffalo</td>\n",
       "      <td>103.0</td>\n",
       "    </tr>\n",
       "    <tr>\n",
       "      <th>8</th>\n",
       "      <td>Daniel Radcliffe</td>\n",
       "      <td>10980.0</td>\n",
       "      <td>Rupert Grint</td>\n",
       "      <td>10989.0</td>\n",
       "      <td>Emma Watson</td>\n",
       "      <td>10990.0</td>\n",
       "    </tr>\n",
       "    <tr>\n",
       "      <th>9</th>\n",
       "      <td>Ben Affleck</td>\n",
       "      <td>880.0</td>\n",
       "      <td>Henry Cavill</td>\n",
       "      <td>73968.0</td>\n",
       "      <td>Gal Gadot</td>\n",
       "      <td>90633.0</td>\n",
       "    </tr>\n",
       "    <tr>\n",
       "      <th>10</th>\n",
       "      <td>Brandon Routh</td>\n",
       "      <td>17271.0</td>\n",
       "      <td>Kevin Spacey</td>\n",
       "      <td>1979.0</td>\n",
       "      <td>Kate Bosworth</td>\n",
       "      <td>7517.0</td>\n",
       "    </tr>\n",
       "    <tr>\n",
       "      <th>11</th>\n",
       "      <td>Daniel Craig</td>\n",
       "      <td>8784.0</td>\n",
       "      <td>Olga Kurylenko</td>\n",
       "      <td>18182.0</td>\n",
       "      <td>Mathieu Amalric</td>\n",
       "      <td>8789.0</td>\n",
       "    </tr>\n",
       "    <tr>\n",
       "      <th>12</th>\n",
       "      <td>Johnny Depp</td>\n",
       "      <td>85.0</td>\n",
       "      <td>Orlando Bloom</td>\n",
       "      <td>114.0</td>\n",
       "      <td>Keira Knightley</td>\n",
       "      <td>116.0</td>\n",
       "    </tr>\n",
       "    <tr>\n",
       "      <th>13</th>\n",
       "      <td>Johnny Depp</td>\n",
       "      <td>85.0</td>\n",
       "      <td>Armie Hammer</td>\n",
       "      <td>53807.0</td>\n",
       "      <td>William Fichtner</td>\n",
       "      <td>886.0</td>\n",
       "    </tr>\n",
       "    <tr>\n",
       "      <th>14</th>\n",
       "      <td>Henry Cavill</td>\n",
       "      <td>73968.0</td>\n",
       "      <td>Amy Adams</td>\n",
       "      <td>9273.0</td>\n",
       "      <td>Michael Shannon</td>\n",
       "      <td>335.0</td>\n",
       "    </tr>\n",
       "    <tr>\n",
       "      <th>15</th>\n",
       "      <td>Ben Barnes</td>\n",
       "      <td>25130.0</td>\n",
       "      <td>William Moseley</td>\n",
       "      <td>5528.0</td>\n",
       "      <td>Anna Popplewell</td>\n",
       "      <td>5529.0</td>\n",
       "    </tr>\n",
       "    <tr>\n",
       "      <th>16</th>\n",
       "      <td>Robert Downey Jr.</td>\n",
       "      <td>3223.0</td>\n",
       "      <td>Chris Evans</td>\n",
       "      <td>16828.0</td>\n",
       "      <td>Mark Ruffalo</td>\n",
       "      <td>103.0</td>\n",
       "    </tr>\n",
       "    <tr>\n",
       "      <th>17</th>\n",
       "      <td>Johnny Depp</td>\n",
       "      <td>85.0</td>\n",
       "      <td>Penélope Cruz</td>\n",
       "      <td>955.0</td>\n",
       "      <td>Ian McShane</td>\n",
       "      <td>6972.0</td>\n",
       "    </tr>\n",
       "    <tr>\n",
       "      <th>18</th>\n",
       "      <td>Will Smith</td>\n",
       "      <td>2888.0</td>\n",
       "      <td>Tommy Lee Jones</td>\n",
       "      <td>2176.0</td>\n",
       "      <td>Josh Brolin</td>\n",
       "      <td>16851.0</td>\n",
       "    </tr>\n",
       "    <tr>\n",
       "      <th>19</th>\n",
       "      <td>Martin Freeman</td>\n",
       "      <td>7060.0</td>\n",
       "      <td>Ian McKellen</td>\n",
       "      <td>1327.0</td>\n",
       "      <td>Richard Armitage</td>\n",
       "      <td>30315.0</td>\n",
       "    </tr>\n",
       "    <tr>\n",
       "      <th>20</th>\n",
       "      <td>Andrew Garfield</td>\n",
       "      <td>37625.0</td>\n",
       "      <td>Emma Stone</td>\n",
       "      <td>54693.0</td>\n",
       "      <td>Rhys Ifans</td>\n",
       "      <td>7026.0</td>\n",
       "    </tr>\n",
       "    <tr>\n",
       "      <th>21</th>\n",
       "      <td>Russell Crowe</td>\n",
       "      <td>934.0</td>\n",
       "      <td>Cate Blanchett</td>\n",
       "      <td>112.0</td>\n",
       "      <td>Max von Sydow</td>\n",
       "      <td>2201.0</td>\n",
       "    </tr>\n",
       "    <tr>\n",
       "      <th>22</th>\n",
       "      <td>Martin Freeman</td>\n",
       "      <td>7060.0</td>\n",
       "      <td>Ian McKellen</td>\n",
       "      <td>1327.0</td>\n",
       "      <td>Richard Armitage</td>\n",
       "      <td>30315.0</td>\n",
       "    </tr>\n",
       "    <tr>\n",
       "      <th>23</th>\n",
       "      <td>Dakota Blue Richards</td>\n",
       "      <td>45589.0</td>\n",
       "      <td>Nicole Kidman</td>\n",
       "      <td>2227.0</td>\n",
       "      <td>Daniel Craig</td>\n",
       "      <td>8784.0</td>\n",
       "    </tr>\n",
       "    <tr>\n",
       "      <th>24</th>\n",
       "      <td>Naomi Watts</td>\n",
       "      <td>3489.0</td>\n",
       "      <td>Jack Black</td>\n",
       "      <td>70851.0</td>\n",
       "      <td>Adrien Brody</td>\n",
       "      <td>3490.0</td>\n",
       "    </tr>\n",
       "    <tr>\n",
       "      <th>25</th>\n",
       "      <td>Kate Winslet</td>\n",
       "      <td>204.0</td>\n",
       "      <td>Leonardo DiCaprio</td>\n",
       "      <td>6193.0</td>\n",
       "      <td>Frances Fisher</td>\n",
       "      <td>3713.0</td>\n",
       "    </tr>\n",
       "    <tr>\n",
       "      <th>26</th>\n",
       "      <td>Chris Evans</td>\n",
       "      <td>16828.0</td>\n",
       "      <td>Robert Downey Jr.</td>\n",
       "      <td>3223.0</td>\n",
       "      <td>Scarlett Johansson</td>\n",
       "      <td>1245.0</td>\n",
       "    </tr>\n",
       "    <tr>\n",
       "      <th>27</th>\n",
       "      <td>Taylor Kitsch</td>\n",
       "      <td>60900.0</td>\n",
       "      <td>Alexander Skarsgård</td>\n",
       "      <td>28846.0</td>\n",
       "      <td>Rihanna</td>\n",
       "      <td>131519.0</td>\n",
       "    </tr>\n",
       "    <tr>\n",
       "      <th>28</th>\n",
       "      <td>Chris Pratt</td>\n",
       "      <td>73457.0</td>\n",
       "      <td>Bryce Dallas Howard</td>\n",
       "      <td>18997.0</td>\n",
       "      <td>Irrfan Khan</td>\n",
       "      <td>76793.0</td>\n",
       "    </tr>\n",
       "    <tr>\n",
       "      <th>29</th>\n",
       "      <td>Daniel Craig</td>\n",
       "      <td>8784.0</td>\n",
       "      <td>Judi Dench</td>\n",
       "      <td>5309.0</td>\n",
       "      <td>Javier Bardem</td>\n",
       "      <td>3810.0</td>\n",
       "    </tr>\n",
       "    <tr>\n",
       "      <th>...</th>\n",
       "      <td>...</td>\n",
       "      <td>...</td>\n",
       "      <td>...</td>\n",
       "      <td>...</td>\n",
       "      <td>...</td>\n",
       "      <td>...</td>\n",
       "    </tr>\n",
       "    <tr>\n",
       "      <th>4742</th>\n",
       "      <td>Morgan Spurlock</td>\n",
       "      <td>57492.0</td>\n",
       "      <td>Daryl Isaacs</td>\n",
       "      <td>57493.0</td>\n",
       "      <td>Lisa Ganjhu</td>\n",
       "      <td>57494.0</td>\n",
       "    </tr>\n",
       "    <tr>\n",
       "      <th>4743</th>\n",
       "      <td>Jason Trost</td>\n",
       "      <td>1009255.0</td>\n",
       "      <td>Lee Valmassy</td>\n",
       "      <td>1009256.0</td>\n",
       "      <td>Art Hsu</td>\n",
       "      <td>590820.0</td>\n",
       "    </tr>\n",
       "    <tr>\n",
       "      <th>4744</th>\n",
       "      <td>Anna Kendrick</td>\n",
       "      <td>84223.0</td>\n",
       "      <td>Melanie Lynskey</td>\n",
       "      <td>15091.0</td>\n",
       "      <td>Mark Webber</td>\n",
       "      <td>4451.0</td>\n",
       "    </tr>\n",
       "    <tr>\n",
       "      <th>4745</th>\n",
       "      <td>Jason Evers</td>\n",
       "      <td>16089.0</td>\n",
       "      <td>Virginia Leith</td>\n",
       "      <td>110727.0</td>\n",
       "      <td>Doris Brent</td>\n",
       "      <td>110736.0</td>\n",
       "    </tr>\n",
       "    <tr>\n",
       "      <th>4748</th>\n",
       "      <td>Katie Parker</td>\n",
       "      <td>551462.0</td>\n",
       "      <td>Courtney Bell</td>\n",
       "      <td>572407.0</td>\n",
       "      <td>Morgan Peter Brown</td>\n",
       "      <td>583456.0</td>\n",
       "    </tr>\n",
       "    <tr>\n",
       "      <th>4749</th>\n",
       "      <td>Shari Albert</td>\n",
       "      <td>86308.0</td>\n",
       "      <td>Maxine Bahns</td>\n",
       "      <td>21398.0</td>\n",
       "      <td>Catharine Bolz</td>\n",
       "      <td>86309.0</td>\n",
       "    </tr>\n",
       "    <tr>\n",
       "      <th>4750</th>\n",
       "      <td>Matt Johnson</td>\n",
       "      <td>1144092.0</td>\n",
       "      <td>Owen Williams</td>\n",
       "      <td>137240.0</td>\n",
       "      <td>Krista Madison</td>\n",
       "      <td>1208342.0</td>\n",
       "    </tr>\n",
       "    <tr>\n",
       "      <th>4751</th>\n",
       "      <td>Sônia Braga</td>\n",
       "      <td>27396.0</td>\n",
       "      <td>Marcello Mastroianni</td>\n",
       "      <td>5676.0</td>\n",
       "      <td>Antonio Cantafora</td>\n",
       "      <td>44980.0</td>\n",
       "    </tr>\n",
       "    <tr>\n",
       "      <th>4752</th>\n",
       "      <td>Lena Dunham</td>\n",
       "      <td>139135.0</td>\n",
       "      <td>Laurie Simmons</td>\n",
       "      <td>139147.0</td>\n",
       "      <td>Grace Dunham</td>\n",
       "      <td>139148.0</td>\n",
       "    </tr>\n",
       "    <tr>\n",
       "      <th>4756</th>\n",
       "      <td>Matt Foyer</td>\n",
       "      <td>589130.0</td>\n",
       "      <td>John Bolen</td>\n",
       "      <td>589131.0</td>\n",
       "      <td>Ralph Lucas</td>\n",
       "      <td>550448.0</td>\n",
       "    </tr>\n",
       "    <tr>\n",
       "      <th>4758</th>\n",
       "      <td>Brenton Thwaites</td>\n",
       "      <td>1017347.0</td>\n",
       "      <td>Olivia Cooke</td>\n",
       "      <td>1173984.0</td>\n",
       "      <td>Beau Knapp</td>\n",
       "      <td>1078613.0</td>\n",
       "    </tr>\n",
       "    <tr>\n",
       "      <th>4759</th>\n",
       "      <td>Todd McFarlane</td>\n",
       "      <td>64849.0</td>\n",
       "      <td>Rob Liefeld</td>\n",
       "      <td>934844.0</td>\n",
       "      <td>Jim Lee</td>\n",
       "      <td>207202.0</td>\n",
       "    </tr>\n",
       "    <tr>\n",
       "      <th>4766</th>\n",
       "      <td>Robbie Robertson</td>\n",
       "      <td>72861.0</td>\n",
       "      <td>Rick Danko</td>\n",
       "      <td>76134.0</td>\n",
       "      <td>Levon Helm</td>\n",
       "      <td>76136.0</td>\n",
       "    </tr>\n",
       "    <tr>\n",
       "      <th>4767</th>\n",
       "      <td>Alison Monda</td>\n",
       "      <td>1177998.0</td>\n",
       "      <td>Alicia Mendez</td>\n",
       "      <td>1360427.0</td>\n",
       "      <td>Ivey Bronwen</td>\n",
       "      <td>1360428.0</td>\n",
       "    </tr>\n",
       "    <tr>\n",
       "      <th>4773</th>\n",
       "      <td>Brian O'Halloran</td>\n",
       "      <td>23629.0</td>\n",
       "      <td>Jeff Anderson</td>\n",
       "      <td>23630.0</td>\n",
       "      <td>Jason Mewes</td>\n",
       "      <td>19302.0</td>\n",
       "    </tr>\n",
       "    <tr>\n",
       "      <th>4774</th>\n",
       "      <td>Bobby Kendall</td>\n",
       "      <td>1168215.0</td>\n",
       "      <td>Donald L. Brooks</td>\n",
       "      <td>1168216.0</td>\n",
       "      <td>Charles Ludlam</td>\n",
       "      <td>140172.0</td>\n",
       "    </tr>\n",
       "    <tr>\n",
       "      <th>4776</th>\n",
       "      <td>Aaron Eckhart</td>\n",
       "      <td>6383.0</td>\n",
       "      <td>Stacy Edwards</td>\n",
       "      <td>43372.0</td>\n",
       "      <td>Matt Malloy</td>\n",
       "      <td>19208.0</td>\n",
       "    </tr>\n",
       "    <tr>\n",
       "      <th>4778</th>\n",
       "      <td>Brendan Fletcher</td>\n",
       "      <td>32205.0</td>\n",
       "      <td>Shaun Sipos</td>\n",
       "      <td>65772.0</td>\n",
       "      <td>Michael Paré</td>\n",
       "      <td>60650.0</td>\n",
       "    </tr>\n",
       "    <tr>\n",
       "      <th>4783</th>\n",
       "      <td>Stephen Lang</td>\n",
       "      <td>32747.0</td>\n",
       "      <td>Kelly Blatz</td>\n",
       "      <td>55464.0</td>\n",
       "      <td>Brittany Curran</td>\n",
       "      <td>88072.0</td>\n",
       "    </tr>\n",
       "    <tr>\n",
       "      <th>4788</th>\n",
       "      <td>Divine</td>\n",
       "      <td>10369.0</td>\n",
       "      <td>David Lochary</td>\n",
       "      <td>10370.0</td>\n",
       "      <td>Mary Vivian Pearce</td>\n",
       "      <td>10371.0</td>\n",
       "    </tr>\n",
       "    <tr>\n",
       "      <th>4790</th>\n",
       "      <td>Nargess Mamizadeh</td>\n",
       "      <td>143272.0</td>\n",
       "      <td>Maryiam Palvin Almani</td>\n",
       "      <td>143273.0</td>\n",
       "      <td>Mojgan Faramarzi</td>\n",
       "      <td>143274.0</td>\n",
       "    </tr>\n",
       "    <tr>\n",
       "      <th>4791</th>\n",
       "      <td>Michael Parle</td>\n",
       "      <td>1264642.0</td>\n",
       "      <td>Emma Eliza Regan</td>\n",
       "      <td>1264589.0</td>\n",
       "      <td>Patrick O'Donnell</td>\n",
       "      <td>1210640.0</td>\n",
       "    </tr>\n",
       "    <tr>\n",
       "      <th>4792</th>\n",
       "      <td>Koji Yakusho</td>\n",
       "      <td>18056.0</td>\n",
       "      <td>Masato Hagiwara</td>\n",
       "      <td>116321.0</td>\n",
       "      <td>Tsuyoshi Ujiki</td>\n",
       "      <td>137026.0</td>\n",
       "    </tr>\n",
       "    <tr>\n",
       "      <th>4793</th>\n",
       "      <td>Tony Sancho</td>\n",
       "      <td>1165265.0</td>\n",
       "      <td>Michael Cortez</td>\n",
       "      <td>1165266.0</td>\n",
       "      <td>Donato Cruz</td>\n",
       "      <td>1165267.0</td>\n",
       "    </tr>\n",
       "    <tr>\n",
       "      <th>4794</th>\n",
       "      <td>Sasha Ramos</td>\n",
       "      <td>1383622.0</td>\n",
       "      <td>Erin Cline</td>\n",
       "      <td>168675.0</td>\n",
       "      <td>Emily Rogers</td>\n",
       "      <td>1354256.0</td>\n",
       "    </tr>\n",
       "    <tr>\n",
       "      <th>4795</th>\n",
       "      <td>Darling Narita</td>\n",
       "      <td>238147.0</td>\n",
       "      <td>Peter Greene</td>\n",
       "      <td>11803.0</td>\n",
       "      <td>Michael Newland</td>\n",
       "      <td>1487594.0</td>\n",
       "    </tr>\n",
       "    <tr>\n",
       "      <th>4796</th>\n",
       "      <td>Shane Carruth</td>\n",
       "      <td>76624.0</td>\n",
       "      <td>David Sullivan</td>\n",
       "      <td>76625.0</td>\n",
       "      <td>Casey Gooden</td>\n",
       "      <td>110171.0</td>\n",
       "    </tr>\n",
       "    <tr>\n",
       "      <th>4798</th>\n",
       "      <td>Carlos Gallardo</td>\n",
       "      <td>20498.0</td>\n",
       "      <td>Jaime de Hoyos</td>\n",
       "      <td>57470.0</td>\n",
       "      <td>Peter Marquardt</td>\n",
       "      <td>57471.0</td>\n",
       "    </tr>\n",
       "    <tr>\n",
       "      <th>4800</th>\n",
       "      <td>Eric Mabius</td>\n",
       "      <td>11867.0</td>\n",
       "      <td>Kristin Booth</td>\n",
       "      <td>34915.0</td>\n",
       "      <td>Crystal Lowe</td>\n",
       "      <td>58393.0</td>\n",
       "    </tr>\n",
       "    <tr>\n",
       "      <th>4802</th>\n",
       "      <td>Drew Barrymore</td>\n",
       "      <td>69597.0</td>\n",
       "      <td>Brian Herzlinger</td>\n",
       "      <td>85563.0</td>\n",
       "      <td>Corey Feldman</td>\n",
       "      <td>3034.0</td>\n",
       "    </tr>\n",
       "  </tbody>\n",
       "</table>\n",
       "<p>4411 rows × 6 columns</p>\n",
       "</div>"
      ],
      "text/plain": [
       "              actor_1_name  actor_1_id           actor_2_name  actor_2_id  \\\n",
       "0          Sam Worthington     65731.0            Zoe Saldana      8691.0   \n",
       "1              Johnny Depp        85.0          Orlando Bloom       114.0   \n",
       "2             Daniel Craig      8784.0        Christoph Waltz     27319.0   \n",
       "3           Christian Bale      3894.0          Michael Caine      3895.0   \n",
       "4            Taylor Kitsch     60900.0           Lynn Collins     21044.0   \n",
       "5            Tobey Maguire      2219.0          Kirsten Dunst       205.0   \n",
       "6             Zachary Levi     69899.0            Mandy Moore     16855.0   \n",
       "7        Robert Downey Jr.      3223.0        Chris Hemsworth     74568.0   \n",
       "8         Daniel Radcliffe     10980.0           Rupert Grint     10989.0   \n",
       "9              Ben Affleck       880.0           Henry Cavill     73968.0   \n",
       "10           Brandon Routh     17271.0           Kevin Spacey      1979.0   \n",
       "11            Daniel Craig      8784.0         Olga Kurylenko     18182.0   \n",
       "12             Johnny Depp        85.0          Orlando Bloom       114.0   \n",
       "13             Johnny Depp        85.0           Armie Hammer     53807.0   \n",
       "14            Henry Cavill     73968.0              Amy Adams      9273.0   \n",
       "15              Ben Barnes     25130.0        William Moseley      5528.0   \n",
       "16       Robert Downey Jr.      3223.0            Chris Evans     16828.0   \n",
       "17             Johnny Depp        85.0          Penélope Cruz       955.0   \n",
       "18              Will Smith      2888.0        Tommy Lee Jones      2176.0   \n",
       "19          Martin Freeman      7060.0           Ian McKellen      1327.0   \n",
       "20         Andrew Garfield     37625.0             Emma Stone     54693.0   \n",
       "21           Russell Crowe       934.0         Cate Blanchett       112.0   \n",
       "22          Martin Freeman      7060.0           Ian McKellen      1327.0   \n",
       "23    Dakota Blue Richards     45589.0          Nicole Kidman      2227.0   \n",
       "24             Naomi Watts      3489.0             Jack Black     70851.0   \n",
       "25            Kate Winslet       204.0      Leonardo DiCaprio      6193.0   \n",
       "26             Chris Evans     16828.0      Robert Downey Jr.      3223.0   \n",
       "27           Taylor Kitsch     60900.0    Alexander Skarsgård     28846.0   \n",
       "28             Chris Pratt     73457.0    Bryce Dallas Howard     18997.0   \n",
       "29            Daniel Craig      8784.0             Judi Dench      5309.0   \n",
       "...                    ...         ...                    ...         ...   \n",
       "4742       Morgan Spurlock     57492.0           Daryl Isaacs     57493.0   \n",
       "4743           Jason Trost   1009255.0           Lee Valmassy   1009256.0   \n",
       "4744         Anna Kendrick     84223.0        Melanie Lynskey     15091.0   \n",
       "4745           Jason Evers     16089.0         Virginia Leith    110727.0   \n",
       "4748          Katie Parker    551462.0          Courtney Bell    572407.0   \n",
       "4749          Shari Albert     86308.0           Maxine Bahns     21398.0   \n",
       "4750          Matt Johnson   1144092.0          Owen Williams    137240.0   \n",
       "4751           Sônia Braga     27396.0   Marcello Mastroianni      5676.0   \n",
       "4752           Lena Dunham    139135.0         Laurie Simmons    139147.0   \n",
       "4756            Matt Foyer    589130.0             John Bolen    589131.0   \n",
       "4758      Brenton Thwaites   1017347.0           Olivia Cooke   1173984.0   \n",
       "4759        Todd McFarlane     64849.0            Rob Liefeld    934844.0   \n",
       "4766      Robbie Robertson     72861.0             Rick Danko     76134.0   \n",
       "4767          Alison Monda   1177998.0          Alicia Mendez   1360427.0   \n",
       "4773      Brian O'Halloran     23629.0          Jeff Anderson     23630.0   \n",
       "4774         Bobby Kendall   1168215.0       Donald L. Brooks   1168216.0   \n",
       "4776         Aaron Eckhart      6383.0          Stacy Edwards     43372.0   \n",
       "4778      Brendan Fletcher     32205.0            Shaun Sipos     65772.0   \n",
       "4783          Stephen Lang     32747.0            Kelly Blatz     55464.0   \n",
       "4788                Divine     10369.0          David Lochary     10370.0   \n",
       "4790     Nargess Mamizadeh    143272.0  Maryiam Palvin Almani    143273.0   \n",
       "4791         Michael Parle   1264642.0       Emma Eliza Regan   1264589.0   \n",
       "4792          Koji Yakusho     18056.0        Masato Hagiwara    116321.0   \n",
       "4793           Tony Sancho   1165265.0         Michael Cortez   1165266.0   \n",
       "4794           Sasha Ramos   1383622.0             Erin Cline    168675.0   \n",
       "4795        Darling Narita    238147.0           Peter Greene     11803.0   \n",
       "4796         Shane Carruth     76624.0         David Sullivan     76625.0   \n",
       "4798       Carlos Gallardo     20498.0         Jaime de Hoyos     57470.0   \n",
       "4800           Eric Mabius     11867.0          Kristin Booth     34915.0   \n",
       "4802        Drew Barrymore     69597.0       Brian Herzlinger     85563.0   \n",
       "\n",
       "            actor_3_name  actor_3_id  \n",
       "0       Sigourney Weaver     10205.0  \n",
       "1        Keira Knightley       116.0  \n",
       "2            Léa Seydoux    121529.0  \n",
       "3            Gary Oldman        64.0  \n",
       "4        Samantha Morton      2206.0  \n",
       "5           James Franco     17051.0  \n",
       "6           Donna Murphy      2517.0  \n",
       "7           Mark Ruffalo       103.0  \n",
       "8            Emma Watson     10990.0  \n",
       "9              Gal Gadot     90633.0  \n",
       "10         Kate Bosworth      7517.0  \n",
       "11       Mathieu Amalric      8789.0  \n",
       "12       Keira Knightley       116.0  \n",
       "13      William Fichtner       886.0  \n",
       "14       Michael Shannon       335.0  \n",
       "15       Anna Popplewell      5529.0  \n",
       "16          Mark Ruffalo       103.0  \n",
       "17           Ian McShane      6972.0  \n",
       "18           Josh Brolin     16851.0  \n",
       "19      Richard Armitage     30315.0  \n",
       "20            Rhys Ifans      7026.0  \n",
       "21         Max von Sydow      2201.0  \n",
       "22      Richard Armitage     30315.0  \n",
       "23          Daniel Craig      8784.0  \n",
       "24          Adrien Brody      3490.0  \n",
       "25        Frances Fisher      3713.0  \n",
       "26    Scarlett Johansson      1245.0  \n",
       "27               Rihanna    131519.0  \n",
       "28           Irrfan Khan     76793.0  \n",
       "29         Javier Bardem      3810.0  \n",
       "...                  ...         ...  \n",
       "4742         Lisa Ganjhu     57494.0  \n",
       "4743             Art Hsu    590820.0  \n",
       "4744         Mark Webber      4451.0  \n",
       "4745         Doris Brent    110736.0  \n",
       "4748  Morgan Peter Brown    583456.0  \n",
       "4749      Catharine Bolz     86309.0  \n",
       "4750      Krista Madison   1208342.0  \n",
       "4751   Antonio Cantafora     44980.0  \n",
       "4752        Grace Dunham    139148.0  \n",
       "4756         Ralph Lucas    550448.0  \n",
       "4758          Beau Knapp   1078613.0  \n",
       "4759             Jim Lee    207202.0  \n",
       "4766          Levon Helm     76136.0  \n",
       "4767        Ivey Bronwen   1360428.0  \n",
       "4773         Jason Mewes     19302.0  \n",
       "4774      Charles Ludlam    140172.0  \n",
       "4776         Matt Malloy     19208.0  \n",
       "4778        Michael Paré     60650.0  \n",
       "4783     Brittany Curran     88072.0  \n",
       "4788  Mary Vivian Pearce     10371.0  \n",
       "4790    Mojgan Faramarzi    143274.0  \n",
       "4791   Patrick O'Donnell   1210640.0  \n",
       "4792      Tsuyoshi Ujiki    137026.0  \n",
       "4793         Donato Cruz   1165267.0  \n",
       "4794        Emily Rogers   1354256.0  \n",
       "4795     Michael Newland   1487594.0  \n",
       "4796        Casey Gooden    110171.0  \n",
       "4798     Peter Marquardt     57471.0  \n",
       "4800        Crystal Lowe     58393.0  \n",
       "4802       Corey Feldman      3034.0  \n",
       "\n",
       "[4411 rows x 6 columns]"
      ]
     },
     "execution_count": 12,
     "metadata": {},
     "output_type": "execute_result"
    }
   ],
   "source": [
    "table_actor = new_data.loc[:,[\"actor_1_name\",\"actor_1_id\",\"actor_2_name\",\"actor_2_id\",\"actor_3_name\",\"actor_3_id\"]]\n",
    "new_data = new_data.drop([\"actor_1_name\",\"actor_2_name\",\"actor_3_name\"],1)\n",
    "table_actor"
   ]
  },
  {
   "cell_type": "markdown",
   "metadata": {},
   "source": [
    "### 1.6 Splitting the data into x and y"
   ]
  },
  {
   "cell_type": "code",
   "execution_count": 13,
   "metadata": {
    "colab": {},
    "colab_type": "code",
    "id": "yAK_q0yU9fCg"
   },
   "outputs": [],
   "source": [
    "\n",
    "y = new_data.loc[:, 'revenue']\n",
    "X = new_data.drop(\"revenue\",axis=1)"
   ]
  },
  {
   "cell_type": "markdown",
   "metadata": {
    "colab_type": "text",
    "id": "OhCZX-P99fC_"
   },
   "source": [
    "## 2. Feature Selection"
   ]
  },
  {
   "cell_type": "markdown",
   "metadata": {},
   "source": [
    "###      2.1 Show correlation through heat map "
   ]
  },
  {
   "cell_type": "code",
   "execution_count": 14,
   "metadata": {
    "colab": {},
    "colab_type": "code",
    "id": "E2PglJzU9fDC",
    "outputId": "ded64826-187c-4ca7-acea-bd202fcdd4b8",
    "scrolled": true
   },
   "outputs": [
    {
     "data": {
      "image/png": "[encoded data removed]",
      "text/plain": [
       "<Figure size 2160x1440 with 2 Axes>"
      ]
     },
     "metadata": {
      "needs_background": "light"
     },
     "output_type": "display_data"
    }
   ],
   "source": [
    "# Drawing the correlation figure\n",
    "fig = plt.subplots(figsize = (30,20))\n",
    "# sns.set(font_scale = 1.5)\n",
    "sns.heatmap (new_data.corr(), square = True, cbar = True, annot = True, annot_kws = {'size': 10})\n",
    "plt.show()"
   ]
  },
  {
   "cell_type": "markdown",
   "metadata": {},
   "source": [
    "### 2.2 Table of revenue with correlation of each feature  \n"
   ]
  },
  {
   "cell_type": "code",
   "execution_count": 15,
   "metadata": {
    "colab": {},
    "colab_type": "code",
    "id": "bevsJoT9cQ4b",
    "outputId": "c7d28f5f-6305-4945-cf16-9ef3032bcad4",
    "scrolled": true
   },
   "outputs": [
    {
     "data": {
      "text/html": [
       "<div>\n",
       "<style scoped>\n",
       "    .dataframe tbody tr th:only-of-type {\n",
       "        vertical-align: middle;\n",
       "    }\n",
       "\n",
       "    .dataframe tbody tr th {\n",
       "        vertical-align: top;\n",
       "    }\n",
       "\n",
       "    .dataframe thead th {\n",
       "        text-align: right;\n",
       "    }\n",
       "</style>\n",
       "<table border=\"1\" class=\"dataframe\">\n",
       "  <thead>\n",
       "    <tr style=\"text-align: right;\">\n",
       "      <th></th>\n",
       "      <th>Correlation with Revenue</th>\n",
       "    </tr>\n",
       "  </thead>\n",
       "  <tbody>\n",
       "    <tr>\n",
       "      <th>revenue</th>\n",
       "      <td>1.000000</td>\n",
       "    </tr>\n",
       "    <tr>\n",
       "      <th>num_voted_users</th>\n",
       "      <td>0.776179</td>\n",
       "    </tr>\n",
       "    <tr>\n",
       "      <th>budget</th>\n",
       "      <td>0.724133</td>\n",
       "    </tr>\n",
       "    <tr>\n",
       "      <th>popularity</th>\n",
       "      <td>0.635208</td>\n",
       "    </tr>\n",
       "    <tr>\n",
       "      <th>duration</th>\n",
       "      <td>0.250271</td>\n",
       "    </tr>\n",
       "    <tr>\n",
       "      <th>vote_average</th>\n",
       "      <td>0.198309</td>\n",
       "    </tr>\n",
       "    <tr>\n",
       "      <th>year</th>\n",
       "      <td>0.105633</td>\n",
       "    </tr>\n",
       "    <tr>\n",
       "      <th>companies_1</th>\n",
       "      <td>0.094396</td>\n",
       "    </tr>\n",
       "    <tr>\n",
       "      <th>country</th>\n",
       "      <td>0.066420</td>\n",
       "    </tr>\n",
       "    <tr>\n",
       "      <th>month</th>\n",
       "      <td>0.045793</td>\n",
       "    </tr>\n",
       "    <tr>\n",
       "      <th>day</th>\n",
       "      <td>0.039504</td>\n",
       "    </tr>\n",
       "    <tr>\n",
       "      <th>director_name</th>\n",
       "      <td>-0.007604</td>\n",
       "    </tr>\n",
       "    <tr>\n",
       "      <th>original_language</th>\n",
       "      <td>-0.057713</td>\n",
       "    </tr>\n",
       "    <tr>\n",
       "      <th>actor_1_id</th>\n",
       "      <td>-0.067927</td>\n",
       "    </tr>\n",
       "    <tr>\n",
       "      <th>actor_3_id</th>\n",
       "      <td>-0.072765</td>\n",
       "    </tr>\n",
       "    <tr>\n",
       "      <th>actor_2_id</th>\n",
       "      <td>-0.082641</td>\n",
       "    </tr>\n",
       "    <tr>\n",
       "      <th>genres</th>\n",
       "      <td>-0.116789</td>\n",
       "    </tr>\n",
       "  </tbody>\n",
       "</table>\n",
       "</div>"
      ],
      "text/plain": [
       "                   Correlation with Revenue\n",
       "revenue                            1.000000\n",
       "num_voted_users                    0.776179\n",
       "budget                             0.724133\n",
       "popularity                         0.635208\n",
       "duration                           0.250271\n",
       "vote_average                       0.198309\n",
       "year                               0.105633\n",
       "companies_1                        0.094396\n",
       "country                            0.066420\n",
       "month                              0.045793\n",
       "day                                0.039504\n",
       "director_name                     -0.007604\n",
       "original_language                 -0.057713\n",
       "actor_1_id                        -0.067927\n",
       "actor_3_id                        -0.072765\n",
       "actor_2_id                        -0.082641\n",
       "genres                            -0.116789"
      ]
     },
     "execution_count": 15,
     "metadata": {},
     "output_type": "execute_result"
    }
   ],
   "source": [
    "corr_revenue =pd.DataFrame(new_data.corrwith(y))\n",
    "corr_revenue.columns =[\"Correlation with Revenue\"]\n",
    "corr_revenue.sort_values(by = \"Correlation with Revenue\", ascending = False)"
   ]
  },
  {
   "cell_type": "markdown",
   "metadata": {},
   "source": [
    "### 2.3 Apply PCA and plot number of components vs variance "
   ]
  },
  {
   "cell_type": "code",
   "execution_count": 16,
   "metadata": {
    "colab": {},
    "colab_type": "code",
    "id": "ic0AQ9_B9fDh",
    "outputId": "e3a34689-75e2-4482-df81-368b381846dc"
   },
   "outputs": [
    {
     "data": {
      "text/plain": [
       "Text(0, 0.5, 'cumulative explained variance')"
      ]
     },
     "execution_count": 16,
     "metadata": {},
     "output_type": "execute_result"
    },
    {
     "data": {
      "image/png": "[encoded data removed]",
      "text/plain": [
       "<Figure size 432x288 with 1 Axes>"
      ]
     },
     "metadata": {
      "needs_background": "light"
     },
     "output_type": "display_data"
    }
   ],
   "source": [
    "from sklearn.decomposition import PCA\n",
    "from sklearn import metrics\n",
    "pca = PCA().fit(X)\n",
    "plt.plot(np.cumsum(pca.explained_variance_ratio_))\n",
    "plt.xlabel('number of components')\n",
    "plt.ylabel('cumulative explained variance')"
   ]
  },
  {
   "cell_type": "markdown",
   "metadata": {},
   "source": [
    "### 2.4 Select number of important feature\n"
   ]
  },
  {
   "cell_type": "code",
   "execution_count": 17,
   "metadata": {
    "colab": {},
    "colab_type": "code",
    "id": "z3ue3b6wcQ4l",
    "outputId": "5d47388d-964c-4332-9dbb-da763deb829a"
   },
   "outputs": [
    {
     "data": {
      "text/plain": [
       "(4411, 4)"
      ]
     },
     "execution_count": 17,
     "metadata": {},
     "output_type": "execute_result"
    }
   ],
   "source": [
    "pca = PCA(n_components=.999999)\n",
    "X =pca.fit_transform(X)\n",
    "X.shape\n"
   ]
  },
  {
   "cell_type": "markdown",
   "metadata": {
    "colab_type": "text",
    "id": "Dx0wu4G-9fDR"
   },
   "source": [
    "## 3. Data Scaling and splitting"
   ]
  },
  {
   "cell_type": "markdown",
   "metadata": {
    "colab_type": "text",
    "id": "zquiyfNo9fDT"
   },
   "source": [
    "### 3.1 Shape x and y data"
   ]
  },
  {
   "cell_type": "code",
   "execution_count": 18,
   "metadata": {
    "colab": {},
    "colab_type": "code",
    "id": "mpsYNsho9fDZ",
    "outputId": "a91a3525-3e09-4ace-e31d-4723ec23ce56",
    "scrolled": true
   },
   "outputs": [
    {
     "name": "stdout",
     "output_type": "stream",
     "text": [
      "(4411, 4)\n",
      "(4411,)\n"
     ]
    }
   ],
   "source": [
    "print(X.shape)\n",
    "print(y.shape)"
   ]
  },
  {
   "cell_type": "code",
   "execution_count": null,
   "metadata": {},
   "outputs": [],
   "source": []
  },
  {
   "cell_type": "markdown",
   "metadata": {},
   "source": [
    "### 3.2 Select important features as x and revenue for y"
   ]
  },
  {
   "cell_type": "code",
   "execution_count": 19,
   "metadata": {
    "colab": {},
    "colab_type": "code",
    "id": "ZHjH6ghP9fDV",
    "outputId": "cf34452c-6bed-4bf1-e356-8f5b98d24998"
   },
   "outputs": [
    {
     "data": {
      "text/plain": [
       "1405403694"
      ]
     },
     "execution_count": 19,
     "metadata": {},
     "output_type": "execute_result"
    }
   ],
   "source": [
    "y = new_data.loc[:, 'revenue']\n",
    "X = new_data.loc[:, ['budget', 'popularity', 'duration', 'num_voted_users']]\n",
    "act_rev = y[7]\n",
    "act_rev"
   ]
  },
  {
   "cell_type": "markdown",
   "metadata": {
    "colab_type": "text",
    "id": "G1QZ24OA9fDp"
   },
   "source": [
    "### 3.3 Splitting training and testing datasets"
   ]
  },
  {
   "cell_type": "code",
   "execution_count": 20,
   "metadata": {
    "colab": {},
    "colab_type": "code",
    "id": "79tPKRULAHFX"
   },
   "outputs": [],
   "source": [
    "from sklearn.model_selection import train_test_split\n",
    "\n",
    "X_train, X_test, y_train, y_test = train_test_split(X, y, test_size=0.2, random_state=0)"
   ]
  },
  {
   "cell_type": "code",
   "execution_count": 21,
   "metadata": {},
   "outputs": [
    {
     "name": "stdout",
     "output_type": "stream",
     "text": [
      "(3528, 4)\n",
      "(3528,)\n"
     ]
    }
   ],
   "source": [
    "print(X_train.shape)\n",
    "print(y_train.shape)"
   ]
  },
  {
   "cell_type": "markdown",
   "metadata": {
    "colab_type": "text",
    "id": "xKZpNdx99fDu"
   },
   "source": [
    "### 3.4 Scaling training data set"
   ]
  },
  {
   "cell_type": "code",
   "execution_count": 22,
   "metadata": {
    "colab": {},
    "colab_type": "code",
    "id": "IEyn9zTy9fDw",
    "outputId": "4415cb62-452c-43f2-f14c-5183a03ba97a"
   },
   "outputs": [
    {
     "name": "stderr",
     "output_type": "stream",
     "text": [
      "C:\\Users\\Dr. Ir. Bala Kumar\\Anaconda3\\lib\\site-packages\\sklearn\\preprocessing\\data.py:625: DataConversionWarning: Data with input dtype int64, float64 were all converted to float64 by StandardScaler.\n",
      "  return self.partial_fit(X, y)\n",
      "C:\\Users\\Dr. Ir. Bala Kumar\\Anaconda3\\lib\\site-packages\\sklearn\\base.py:462: DataConversionWarning: Data with input dtype int64, float64 were all converted to float64 by StandardScaler.\n",
      "  return self.fit(X, **fit_params).transform(X)\n",
      "C:\\Users\\Dr. Ir. Bala Kumar\\Anaconda3\\lib\\site-packages\\ipykernel_launcher.py:6: DataConversionWarning: Data with input dtype int64, float64 were all converted to float64 by StandardScaler.\n",
      "  \n"
     ]
    }
   ],
   "source": [
    "# Feature Scaling\n",
    "from sklearn.preprocessing import StandardScaler\n",
    "\n",
    "sc = StandardScaler()\n",
    "X_train = sc.fit_transform(X_train)\n",
    "X_test = sc.transform(X_test)"
   ]
  },
  {
   "cell_type": "markdown",
   "metadata": {
    "colab_type": "text",
    "id": "2APHBa4e9fD2"
   },
   "source": [
    "## 4. Regression"
   ]
  },
  {
   "cell_type": "markdown",
   "metadata": {
    "colab_type": "text",
    "id": "ghHiZd9H9fD4"
   },
   "source": [
    "### Evaluation regression function"
   ]
  },
  {
   "cell_type": "code",
   "execution_count": 23,
   "metadata": {
    "colab": {},
    "colab_type": "code",
    "id": "USaOmKtc9fD6"
   },
   "outputs": [],
   "source": [
    "'''Explained variance score'''\n",
    "'''The best possible score is 1.0, lower values are worse.'''\n",
    "from sklearn.metrics import explained_variance_score\n",
    "# print(explained_variance_score(y_test, y_pred))\n",
    "'''Mean absolute error'''\n",
    "from sklearn.metrics import mean_absolute_error\n",
    "# print(mean_absolute_error(y_test, y_pred))\n",
    "'''Mean squared error'''\n",
    "from sklearn.metrics import mean_squared_error\n",
    "# print(mean_squared_error(y_test, y_pred))\n",
    "'''Mean squared logarithmic error'''\n",
    "from sklearn.metrics import mean_squared_log_error\n",
    "# print(mean_squared_log_error(y_test, y_pred))\n",
    "'''Median absolute error'''\n",
    "from sklearn.metrics import median_absolute_error\n",
    "# print(median_absolute_error(y_test, y_pred))\n",
    "'''R² score, the coefficient of determination'''\n",
    "'''Best possible score is 1.0 and it can be negative (because the model can be arbitrarily worse).'''\n",
    "from sklearn.metrics import r2_score\n",
    "# print(r2_score(y_test, y_pred))\n",
    "score_array =[]\n",
    "R_square_array = []\n",
    "model_name = []\n",
    "model_R_name = []\n",
    "\n",
    "\n",
    "def evaluate_regression(y_test, y_pred):\n",
    "    output = \"Explained variance score: {}\\n\".format(explained_variance_score(y_test, y_pred))\n",
    "    output += \"Mean absolute error: {}\\n\".format(mean_absolute_error(y_test, y_pred))\n",
    "    output += \"Mean squared error: {}\\n\".format(mean_squared_error(y_test, y_pred))\n",
    "    # output += \"Mean squared logarithmic error: {}\\n\".format(mean_squared_log_error(y_test, y_pred))\n",
    "    output += \"Median squared error: {}\\n\".format(median_absolute_error(y_test, y_pred))\n",
    "    R_square_array.append(r2_score(y_test, y_pred))\n",
    "    output += \"R² score: {}\\n\".format(r2_score(y_test, y_pred))\n",
    "    return output"
   ]
  },
  {
   "cell_type": "code",
   "execution_count": 24,
   "metadata": {
    "colab": {},
    "colab_type": "code",
    "id": "W-QuJVgk9fD-"
   },
   "outputs": [],
   "source": [
    "def plotting(y_test, y_pred, title, r_square):\n",
    "    # Plot the results\n",
    "    plt.figure()\n",
    "    plt.scatter(y_test, y_pred, c='r')\n",
    "    plt.scatter(y_test, y_test)\n",
    "    plt.xlabel(\"data\")\n",
    "    plt.ylabel(\"target\")\n",
    "    plt.legend(('predicted', 'actual'), loc='lower right')\n",
    "    plt.title(\"{} -> R²: {}\".format(title, round(r_square, 2)))\n",
    "    plt.show()"
   ]
  },
  {
   "cell_type": "markdown",
   "metadata": {
    "colab_type": "text",
    "id": "dnQT7CgI9fEC"
   },
   "source": [
    "### Regression Function"
   ]
  },
  {
   "cell_type": "code",
   "execution_count": 25,
   "metadata": {
    "colab": {},
    "colab_type": "code",
    "id": "ogDVxmE-9fED"
   },
   "outputs": [],
   "source": [
    "def fit_data(regressor):\n",
    "    print('================{}=================='.format(str(regressor.__class__.__name__)))\n",
    "    regressor.fit(X_train, y_train)\n",
    "    y_pred = regressor.predict(X_test)\n",
    "    print(evaluate_regression(y_test, y_pred))\n",
    "    model_R_name.append(str(regressor.__class__.__name__))\n",
    "    plotting(y_test, y_pred, str(regressor.__class__.__name__), r2_score(y_test, y_pred))\n",
    "    print('================{}=================='.format(str(regressor.__class__.__name__)))"
   ]
  },
  {
   "cell_type": "markdown",
   "metadata": {
    "colab_type": "text",
    "id": "73_Qm0m09fEI"
   },
   "source": [
    "### 4.1 Apply regression and plot its results"
   ]
  },
  {
   "cell_type": "code",
   "execution_count": 26,
   "metadata": {
    "colab": {},
    "colab_type": "code",
    "id": "V0Hsf7_89fEK"
   },
   "outputs": [
    {
     "name": "stdout",
     "output_type": "stream",
     "text": [
      "================LinearRegression==================\n",
      "Explained variance score: 0.657831079284042\n",
      "Mean absolute error: 49454348.75751676\n",
      "Mean squared error: 8025373373806040.0\n",
      "Median squared error: 22159775.684315264\n",
      "R² score: 0.657663805636847\n",
      "\n"
     ]
    },
    {
     "data": {
      "image/png": "[encoded data removed]",
      "text/plain": [
       "<Figure size 432x288 with 1 Axes>"
      ]
     },
     "metadata": {
      "needs_background": "light"
     },
     "output_type": "display_data"
    },
    {
     "name": "stdout",
     "output_type": "stream",
     "text": [
      "================LinearRegression==================\n",
      "================KNeighborsRegressor==================\n",
      "Explained variance score: 0.6942197479616523\n",
      "Mean absolute error: 45449363.99207248\n",
      "Mean squared error: 7172345669189518.0\n",
      "Median squared error: 18833624.8\n",
      "R² score: 0.6940511790938733\n",
      "\n"
     ]
    },
    {
     "data": {
      "image/png": "[encoded data removed]",
      "text/plain": [
       "<Figure size 432x288 with 1 Axes>"
      ]
     },
     "metadata": {
      "needs_background": "light"
     },
     "output_type": "display_data"
    },
    {
     "name": "stdout",
     "output_type": "stream",
     "text": [
      "================KNeighborsRegressor==================\n",
      "================DecisionTreeRegressor==================\n",
      "Explained variance score: 0.6793529956626294\n",
      "Mean absolute error: 46207892.188219115\n",
      "Mean squared error: 7517225160524576.0\n",
      "Median squared error: 19699805.522633746\n",
      "R² score: 0.6793397473537759\n",
      "\n"
     ]
    },
    {
     "data": {
      "image/png": "[encoded data removed]",
      "text/plain": [
       "<Figure size 432x288 with 1 Axes>"
      ]
     },
     "metadata": {
      "needs_background": "light"
     },
     "output_type": "display_data"
    },
    {
     "name": "stdout",
     "output_type": "stream",
     "text": [
      "================DecisionTreeRegressor==================\n",
      "================RandomForestRegressor==================\n",
      "Explained variance score: 0.7121144588579595\n",
      "Mean absolute error: 43528076.086799875\n",
      "Mean squared error: 6752936579619048.0\n",
      "Median squared error: 17670425.57669983\n",
      "R² score: 0.7119417998684152\n",
      "\n"
     ]
    },
    {
     "name": "stderr",
     "output_type": "stream",
     "text": [
      "C:\\Users\\Dr. Ir. Bala Kumar\\Anaconda3\\lib\\site-packages\\sklearn\\ensemble\\forest.py:246: FutureWarning: The default value of n_estimators will change from 10 in version 0.20 to 100 in 0.22.\n",
      "  \"10 in version 0.20 to 100 in 0.22.\", FutureWarning)\n"
     ]
    },
    {
     "data": {
      "image/png": "[encoded data removed]",
      "text/plain": [
       "<Figure size 432x288 with 1 Axes>"
      ]
     },
     "metadata": {
      "needs_background": "light"
     },
     "output_type": "display_data"
    },
    {
     "name": "stdout",
     "output_type": "stream",
     "text": [
      "================RandomForestRegressor==================\n",
      "================GradientBoostingRegressor==================\n",
      "Explained variance score: 0.7034524818599162\n",
      "Mean absolute error: 44342157.4579963\n",
      "Mean squared error: 6952224752969181.0\n",
      "Median squared error: 17467255.19097717\n",
      "R² score: 0.7034408178369819\n",
      "\n"
     ]
    },
    {
     "data": {
      "image/png": "[encoded data removed]",
      "text/plain": [
       "<Figure size 432x288 with 1 Axes>"
      ]
     },
     "metadata": {
      "needs_background": "light"
     },
     "output_type": "display_data"
    },
    {
     "name": "stdout",
     "output_type": "stream",
     "text": [
      "================GradientBoostingRegressor==================\n",
      "================KernelRidge==================\n",
      "Explained variance score: 0.6692078508466224\n",
      "Mean absolute error: 44334423.25539182\n",
      "Mean squared error: 7758780133002075.0\n",
      "Median squared error: 19375100.01394868\n",
      "R² score: 0.6690358018355094\n",
      "\n"
     ]
    },
    {
     "data": {
      "image/png": "[encoded data removed]",
      "text/plain": [
       "<Figure size 432x288 with 1 Axes>"
      ]
     },
     "metadata": {
      "needs_background": "light"
     },
     "output_type": "display_data"
    },
    {
     "name": "stdout",
     "output_type": "stream",
     "text": [
      "================KernelRidge==================\n"
     ]
    }
   ],
   "source": [
    "from sklearn import linear_model\n",
    "from sklearn.tree import DecisionTreeRegressor\n",
    "from sklearn.svm import SVR\n",
    "from sklearn.neighbors import KNeighborsRegressor\n",
    "from sklearn.ensemble import RandomForestRegressor\n",
    "from sklearn.ensemble import GradientBoostingRegressor\n",
    "from sklearn.kernel_ridge import KernelRidge\n",
    "\n",
    "regressor_list = [linear_model.LinearRegression(),\n",
    "                  KNeighborsRegressor(),\n",
    "                  DecisionTreeRegressor(max_depth=5, random_state=10),\n",
    "                  RandomForestRegressor(max_depth=5, random_state=10),\n",
    "                  GradientBoostingRegressor(max_depth=5, random_state=10),\n",
    "                  KernelRidge(kernel='rbf', gamma=0.1)]\n",
    "for regressor in regressor_list:\n",
    "    fit_data(regressor)"
   ]
  },
  {
   "cell_type": "code",
   "execution_count": 27,
   "metadata": {},
   "outputs": [
    {
     "name": "stdout",
     "output_type": "stream",
     "text": [
      "[]\n"
     ]
    }
   ],
   "source": [
    "#This shows the score array for each regression shown on the list in order\n",
    "print(score_array)"
   ]
  },
  {
   "cell_type": "markdown",
   "metadata": {
    "colab_type": "text",
    "id": "Y8WMmoda9fEY"
   },
   "source": [
    "## 5. Classification"
   ]
  },
  {
   "cell_type": "markdown",
   "metadata": {},
   "source": [
    "### Preprocess stage"
   ]
  },
  {
   "cell_type": "markdown",
   "metadata": {},
   "source": [
    ">**Evaluation classification function**"
   ]
  },
  {
   "cell_type": "code",
   "execution_count": 28,
   "metadata": {
    "colab": {},
    "colab_type": "code",
    "id": "qLA013c-9fEZ"
   },
   "outputs": [],
   "source": [
    "from sklearn.metrics import classification_report, accuracy_score, confusion_matrix\n",
    "\n",
    "def evaluate_classification(y_test, y_pred,name):\n",
    "    RFcm = confusion_matrix(y_test, y_pred)\n",
    "    print(\"confusion matrix:\")\n",
    "    print(RFcm)\n",
    "    print('accuracy_score',accuracy_score(y_test, y_pred)) \n",
    "    score_array.append(accuracy_score(y_test, y_pred))\n",
    "    model_name.append(name)"
   ]
  },
  {
   "cell_type": "code",
   "execution_count": 29,
   "metadata": {
    "colab": {},
    "colab_type": "code",
    "id": "RGo2joAm9fEd"
   },
   "outputs": [],
   "source": [
    "# y = new_data.loc[:, 'revenue']\n",
    "# X = new_data.loc[:, ['budget', 'popularity', 'duration', 'num_voted_users']]\n",
    "df = pd.concat([X, y], axis=1)"
   ]
  },
  {
   "cell_type": "code",
   "execution_count": 30,
   "metadata": {
    "colab": {},
    "colab_type": "code",
    "id": "ss9Qo-WS9fEh"
   },
   "outputs": [
    {
     "data": {
      "text/plain": [
       "(4411, 5)"
      ]
     },
     "execution_count": 30,
     "metadata": {},
     "output_type": "execute_result"
    }
   ],
   "source": [
    "df.shape"
   ]
  },
  {
   "cell_type": "markdown",
   "metadata": {},
   "source": [
    ">**Get information about the revenue**"
   ]
  },
  {
   "cell_type": "code",
   "execution_count": 31,
   "metadata": {
    "colab": {},
    "colab_type": "code",
    "id": "Q2t2IJvS9fEo"
   },
   "outputs": [
    {
     "data": {
      "text/plain": [
       "count    4.411000e+03\n",
       "mean     8.949506e+07\n",
       "std      1.680391e+08\n",
       "min      0.000000e+00\n",
       "25%      1.250000e+01\n",
       "50%      2.601086e+07\n",
       "75%      1.017303e+08\n",
       "max      2.787965e+09\n",
       "Name: revenue, dtype: float64"
      ]
     },
     "execution_count": 31,
     "metadata": {},
     "output_type": "execute_result"
    }
   ],
   "source": [
    "y.describe()"
   ]
  },
  {
   "cell_type": "code",
   "execution_count": 32,
   "metadata": {
    "colab": {},
    "colab_type": "code",
    "id": "8mYNgprS9fEt"
   },
   "outputs": [
    {
     "data": {
      "text/plain": [
       "<matplotlib.axes._subplots.AxesSubplot at 0x1865dba91d0>"
      ]
     },
     "execution_count": 32,
     "metadata": {},
     "output_type": "execute_result"
    },
    {
     "data": {
      "image/png": "[encoded data removed]",
      "text/plain": [
       "<Figure size 432x288 with 1 Axes>"
      ]
     },
     "metadata": {
      "needs_background": "light"
     },
     "output_type": "display_data"
    }
   ],
   "source": [
    "df['revenue'].plot.box(color='orange', sym='r+')"
   ]
  },
  {
   "cell_type": "markdown",
   "metadata": {
    "colab_type": "text",
    "id": "NmtKY-N09fE0"
   },
   "source": [
    ">**Convert revenue into four categories**\n"
   ]
  },
  {
   "cell_type": "code",
   "execution_count": null,
   "metadata": {},
   "outputs": [],
   "source": []
  },
  {
   "cell_type": "code",
   "execution_count": 33,
   "metadata": {},
   "outputs": [],
   "source": [
    "from sklearn.cluster import KMeans\n",
    "Nc = range(1, 20)\n",
    "kmeans = [KMeans(n_clusters=i) for i in Nc]"
   ]
  },
  {
   "cell_type": "code",
   "execution_count": 34,
   "metadata": {},
   "outputs": [
    {
     "name": "stdout",
     "output_type": "stream",
     "text": [
      "[[2787965087]\n",
      " [ 961000000]\n",
      " [ 880674609]\n",
      " ...\n",
      " [   2040920]\n",
      " [         0]\n",
      " [         0]]\n"
     ]
    }
   ],
   "source": [
    "df_r=np.array(df['revenue']).reshape(-1, 1)\n",
    "print(df_r)"
   ]
  },
  {
   "cell_type": "code",
   "execution_count": 35,
   "metadata": {},
   "outputs": [],
   "source": [
    "score = [kmeans[i].fit(df_r).score(df_r) for i in range(len(kmeans))]"
   ]
  },
  {
   "cell_type": "code",
   "execution_count": 36,
   "metadata": {},
   "outputs": [
    {
     "data": {
      "image/png": "[encoded data removed]",
      "text/plain": [
       "<Figure size 432x288 with 1 Axes>"
      ]
     },
     "metadata": {
      "needs_background": "light"
     },
     "output_type": "display_data"
    }
   ],
   "source": [
    "import pylab as pl\n",
    "pl.plot(Nc,score)\n",
    "pl.xlabel('Number of Clusters')\n",
    "pl.ylabel('Score')\n",
    "pl.title('Elbow Curve')\n",
    "pl.show()"
   ]
  },
  {
   "cell_type": "markdown",
   "metadata": {},
   "source": [
    "Fit K-Means clustering for k=5"
   ]
  },
  {
   "cell_type": "code",
   "execution_count": 37,
   "metadata": {},
   "outputs": [
    {
     "data": {
      "text/plain": [
       "4411"
      ]
     },
     "execution_count": 37,
     "metadata": {},
     "output_type": "execute_result"
    }
   ],
   "source": [
    "kmeans = KMeans(n_clusters=5)\n",
    "kmeans.fit(df_r)\n",
    "len(kmeans.labels_)"
   ]
  },
  {
   "cell_type": "code",
   "execution_count": 38,
   "metadata": {},
   "outputs": [
    {
     "data": {
      "text/html": [
       "<div>\n",
       "<style scoped>\n",
       "    .dataframe tbody tr th:only-of-type {\n",
       "        vertical-align: middle;\n",
       "    }\n",
       "\n",
       "    .dataframe tbody tr th {\n",
       "        vertical-align: top;\n",
       "    }\n",
       "\n",
       "    .dataframe thead th {\n",
       "        text-align: right;\n",
       "    }\n",
       "</style>\n",
       "<table border=\"1\" class=\"dataframe\">\n",
       "  <thead>\n",
       "    <tr style=\"text-align: right;\">\n",
       "      <th></th>\n",
       "      <th>budget</th>\n",
       "      <th>popularity</th>\n",
       "      <th>duration</th>\n",
       "      <th>num_voted_users</th>\n",
       "      <th>revenue</th>\n",
       "      <th>revenue_cat</th>\n",
       "    </tr>\n",
       "  </thead>\n",
       "  <tbody>\n",
       "    <tr>\n",
       "      <th>0</th>\n",
       "      <td>237000000</td>\n",
       "      <td>150.437577</td>\n",
       "      <td>162.0</td>\n",
       "      <td>11800</td>\n",
       "      <td>2787965087</td>\n",
       "      <td>4</td>\n",
       "    </tr>\n",
       "    <tr>\n",
       "      <th>1</th>\n",
       "      <td>300000000</td>\n",
       "      <td>139.082615</td>\n",
       "      <td>169.0</td>\n",
       "      <td>4500</td>\n",
       "      <td>961000000</td>\n",
       "      <td>3</td>\n",
       "    </tr>\n",
       "    <tr>\n",
       "      <th>2</th>\n",
       "      <td>245000000</td>\n",
       "      <td>107.376788</td>\n",
       "      <td>148.0</td>\n",
       "      <td>4466</td>\n",
       "      <td>880674609</td>\n",
       "      <td>3</td>\n",
       "    </tr>\n",
       "    <tr>\n",
       "      <th>3</th>\n",
       "      <td>250000000</td>\n",
       "      <td>112.312950</td>\n",
       "      <td>165.0</td>\n",
       "      <td>9106</td>\n",
       "      <td>1084939099</td>\n",
       "      <td>3</td>\n",
       "    </tr>\n",
       "    <tr>\n",
       "      <th>4</th>\n",
       "      <td>260000000</td>\n",
       "      <td>43.926995</td>\n",
       "      <td>132.0</td>\n",
       "      <td>2124</td>\n",
       "      <td>284139100</td>\n",
       "      <td>0</td>\n",
       "    </tr>\n",
       "  </tbody>\n",
       "</table>\n",
       "</div>"
      ],
      "text/plain": [
       "      budget  popularity  duration  num_voted_users     revenue  revenue_cat\n",
       "0  237000000  150.437577     162.0            11800  2787965087            4\n",
       "1  300000000  139.082615     169.0             4500   961000000            3\n",
       "2  245000000  107.376788     148.0             4466   880674609            3\n",
       "3  250000000  112.312950     165.0             9106  1084939099            3\n",
       "4  260000000   43.926995     132.0             2124   284139100            0"
      ]
     },
     "execution_count": 38,
     "metadata": {},
     "output_type": "execute_result"
    }
   ],
   "source": [
    "df['revenue_cat']= kmeans.labels_\n",
    "df.head()"
   ]
  },
  {
   "cell_type": "code",
   "execution_count": 39,
   "metadata": {},
   "outputs": [
    {
     "data": {
      "image/png": "[encoded data removed]",
      "text/plain": [
       "<Figure size 864x504 with 1 Axes>"
      ]
     },
     "metadata": {
      "needs_background": "light"
     },
     "output_type": "display_data"
    }
   ],
   "source": [
    "plt.figure(figsize=(12,7))\n",
    "axis = sns.barplot(x=np.arange(0,5,1),y=df.groupby(['revenue_cat']).count()['revenue'].values)\n",
    "x=axis.set_xlabel(\"Cluster Number\")\n",
    "y=axis.set_ylabel(\"Number of revenue\")"
   ]
  },
  {
   "cell_type": "code",
   "execution_count": 40,
   "metadata": {
    "scrolled": true
   },
   "outputs": [
    {
     "data": {
      "text/html": [
       "<div>\n",
       "<style scoped>\n",
       "    .dataframe tbody tr th:only-of-type {\n",
       "        vertical-align: middle;\n",
       "    }\n",
       "\n",
       "    .dataframe tbody tr th {\n",
       "        vertical-align: top;\n",
       "    }\n",
       "\n",
       "    .dataframe thead th {\n",
       "        text-align: right;\n",
       "    }\n",
       "</style>\n",
       "<table border=\"1\" class=\"dataframe\">\n",
       "  <thead>\n",
       "    <tr style=\"text-align: right;\">\n",
       "      <th></th>\n",
       "      <th>budget</th>\n",
       "      <th>popularity</th>\n",
       "      <th>duration</th>\n",
       "      <th>num_voted_users</th>\n",
       "      <th>revenue</th>\n",
       "    </tr>\n",
       "    <tr>\n",
       "      <th>revenue_cat</th>\n",
       "      <th></th>\n",
       "      <th></th>\n",
       "      <th></th>\n",
       "      <th></th>\n",
       "      <th></th>\n",
       "    </tr>\n",
       "  </thead>\n",
       "  <tbody>\n",
       "    <tr>\n",
       "      <th>0</th>\n",
       "      <td>9.529423e+07</td>\n",
       "      <td>59.118909</td>\n",
       "      <td>117.539249</td>\n",
       "      <td>2611.870307</td>\n",
       "      <td>3.822944e+08</td>\n",
       "    </tr>\n",
       "    <tr>\n",
       "      <th>1</th>\n",
       "      <td>1.584785e+07</td>\n",
       "      <td>13.244386</td>\n",
       "      <td>105.614694</td>\n",
       "      <td>303.382098</td>\n",
       "      <td>1.822760e+07</td>\n",
       "    </tr>\n",
       "    <tr>\n",
       "      <th>2</th>\n",
       "      <td>5.045032e+07</td>\n",
       "      <td>34.932267</td>\n",
       "      <td>112.176734</td>\n",
       "      <td>1155.751678</td>\n",
       "      <td>1.484357e+08</td>\n",
       "    </tr>\n",
       "    <tr>\n",
       "      <th>3</th>\n",
       "      <td>1.506683e+08</td>\n",
       "      <td>115.877992</td>\n",
       "      <td>127.722772</td>\n",
       "      <td>5082.386139</td>\n",
       "      <td>8.183742e+08</td>\n",
       "    </tr>\n",
       "    <tr>\n",
       "      <th>4</th>\n",
       "      <td>2.128333e+08</td>\n",
       "      <td>175.037018</td>\n",
       "      <td>150.166667</td>\n",
       "      <td>8457.166667</td>\n",
       "      <td>1.762957e+09</td>\n",
       "    </tr>\n",
       "  </tbody>\n",
       "</table>\n",
       "</div>"
      ],
      "text/plain": [
       "                   budget  popularity    duration  num_voted_users  \\\n",
       "revenue_cat                                                          \n",
       "0            9.529423e+07   59.118909  117.539249      2611.870307   \n",
       "1            1.584785e+07   13.244386  105.614694       303.382098   \n",
       "2            5.045032e+07   34.932267  112.176734      1155.751678   \n",
       "3            1.506683e+08  115.877992  127.722772      5082.386139   \n",
       "4            2.128333e+08  175.037018  150.166667      8457.166667   \n",
       "\n",
       "                  revenue  \n",
       "revenue_cat                \n",
       "0            3.822944e+08  \n",
       "1            1.822760e+07  \n",
       "2            1.484357e+08  \n",
       "3            8.183742e+08  \n",
       "4            1.762957e+09  "
      ]
     },
     "execution_count": 40,
     "metadata": {},
     "output_type": "execute_result"
    }
   ],
   "source": [
    "df.groupby(['revenue_cat']).mean()"
   ]
  },
  {
   "cell_type": "code",
   "execution_count": 41,
   "metadata": {
    "scrolled": true
   },
   "outputs": [
    {
     "data": {
      "text/html": [
       "<div>\n",
       "<style scoped>\n",
       "    .dataframe tbody tr th:only-of-type {\n",
       "        vertical-align: middle;\n",
       "    }\n",
       "\n",
       "    .dataframe tbody tr th {\n",
       "        vertical-align: top;\n",
       "    }\n",
       "\n",
       "    .dataframe thead th {\n",
       "        text-align: right;\n",
       "    }\n",
       "</style>\n",
       "<table border=\"1\" class=\"dataframe\">\n",
       "  <thead>\n",
       "    <tr style=\"text-align: right;\">\n",
       "      <th></th>\n",
       "      <th>budget</th>\n",
       "      <th>popularity</th>\n",
       "      <th>duration</th>\n",
       "      <th>num_voted_users</th>\n",
       "      <th>revenue</th>\n",
       "      <th>revenue_cat</th>\n",
       "    </tr>\n",
       "  </thead>\n",
       "  <tbody>\n",
       "    <tr>\n",
       "      <th>0</th>\n",
       "      <td>237000000</td>\n",
       "      <td>150.437577</td>\n",
       "      <td>162.0</td>\n",
       "      <td>11800</td>\n",
       "      <td>2787965087</td>\n",
       "      <td>4</td>\n",
       "    </tr>\n",
       "    <tr>\n",
       "      <th>1</th>\n",
       "      <td>300000000</td>\n",
       "      <td>139.082615</td>\n",
       "      <td>169.0</td>\n",
       "      <td>4500</td>\n",
       "      <td>961000000</td>\n",
       "      <td>3</td>\n",
       "    </tr>\n",
       "    <tr>\n",
       "      <th>2</th>\n",
       "      <td>245000000</td>\n",
       "      <td>107.376788</td>\n",
       "      <td>148.0</td>\n",
       "      <td>4466</td>\n",
       "      <td>880674609</td>\n",
       "      <td>3</td>\n",
       "    </tr>\n",
       "    <tr>\n",
       "      <th>3</th>\n",
       "      <td>250000000</td>\n",
       "      <td>112.312950</td>\n",
       "      <td>165.0</td>\n",
       "      <td>9106</td>\n",
       "      <td>1084939099</td>\n",
       "      <td>3</td>\n",
       "    </tr>\n",
       "    <tr>\n",
       "      <th>4</th>\n",
       "      <td>260000000</td>\n",
       "      <td>43.926995</td>\n",
       "      <td>132.0</td>\n",
       "      <td>2124</td>\n",
       "      <td>284139100</td>\n",
       "      <td>0</td>\n",
       "    </tr>\n",
       "    <tr>\n",
       "      <th>5</th>\n",
       "      <td>258000000</td>\n",
       "      <td>115.699814</td>\n",
       "      <td>139.0</td>\n",
       "      <td>3576</td>\n",
       "      <td>890871626</td>\n",
       "      <td>3</td>\n",
       "    </tr>\n",
       "    <tr>\n",
       "      <th>6</th>\n",
       "      <td>260000000</td>\n",
       "      <td>48.681969</td>\n",
       "      <td>100.0</td>\n",
       "      <td>3330</td>\n",
       "      <td>591794936</td>\n",
       "      <td>0</td>\n",
       "    </tr>\n",
       "    <tr>\n",
       "      <th>7</th>\n",
       "      <td>280000000</td>\n",
       "      <td>134.279229</td>\n",
       "      <td>141.0</td>\n",
       "      <td>6767</td>\n",
       "      <td>1405403694</td>\n",
       "      <td>4</td>\n",
       "    </tr>\n",
       "    <tr>\n",
       "      <th>8</th>\n",
       "      <td>250000000</td>\n",
       "      <td>98.885637</td>\n",
       "      <td>153.0</td>\n",
       "      <td>5293</td>\n",
       "      <td>933959197</td>\n",
       "      <td>3</td>\n",
       "    </tr>\n",
       "    <tr>\n",
       "      <th>9</th>\n",
       "      <td>250000000</td>\n",
       "      <td>155.790452</td>\n",
       "      <td>151.0</td>\n",
       "      <td>7004</td>\n",
       "      <td>873260194</td>\n",
       "      <td>3</td>\n",
       "    </tr>\n",
       "    <tr>\n",
       "      <th>10</th>\n",
       "      <td>270000000</td>\n",
       "      <td>57.925623</td>\n",
       "      <td>154.0</td>\n",
       "      <td>1400</td>\n",
       "      <td>391081192</td>\n",
       "      <td>0</td>\n",
       "    </tr>\n",
       "    <tr>\n",
       "      <th>11</th>\n",
       "      <td>200000000</td>\n",
       "      <td>107.928811</td>\n",
       "      <td>106.0</td>\n",
       "      <td>2965</td>\n",
       "      <td>586090727</td>\n",
       "      <td>0</td>\n",
       "    </tr>\n",
       "    <tr>\n",
       "      <th>12</th>\n",
       "      <td>200000000</td>\n",
       "      <td>145.847379</td>\n",
       "      <td>151.0</td>\n",
       "      <td>5246</td>\n",
       "      <td>1065659812</td>\n",
       "      <td>3</td>\n",
       "    </tr>\n",
       "    <tr>\n",
       "      <th>13</th>\n",
       "      <td>255000000</td>\n",
       "      <td>49.046956</td>\n",
       "      <td>149.0</td>\n",
       "      <td>2311</td>\n",
       "      <td>89289910</td>\n",
       "      <td>2</td>\n",
       "    </tr>\n",
       "    <tr>\n",
       "      <th>14</th>\n",
       "      <td>225000000</td>\n",
       "      <td>99.398009</td>\n",
       "      <td>143.0</td>\n",
       "      <td>6359</td>\n",
       "      <td>662845518</td>\n",
       "      <td>3</td>\n",
       "    </tr>\n",
       "    <tr>\n",
       "      <th>15</th>\n",
       "      <td>225000000</td>\n",
       "      <td>53.978602</td>\n",
       "      <td>150.0</td>\n",
       "      <td>1630</td>\n",
       "      <td>419651413</td>\n",
       "      <td>0</td>\n",
       "    </tr>\n",
       "    <tr>\n",
       "      <th>16</th>\n",
       "      <td>220000000</td>\n",
       "      <td>144.448633</td>\n",
       "      <td>143.0</td>\n",
       "      <td>11776</td>\n",
       "      <td>1519557910</td>\n",
       "      <td>4</td>\n",
       "    </tr>\n",
       "    <tr>\n",
       "      <th>17</th>\n",
       "      <td>380000000</td>\n",
       "      <td>135.413856</td>\n",
       "      <td>136.0</td>\n",
       "      <td>4948</td>\n",
       "      <td>1045713802</td>\n",
       "      <td>3</td>\n",
       "    </tr>\n",
       "    <tr>\n",
       "      <th>18</th>\n",
       "      <td>225000000</td>\n",
       "      <td>52.035179</td>\n",
       "      <td>106.0</td>\n",
       "      <td>4160</td>\n",
       "      <td>624026776</td>\n",
       "      <td>3</td>\n",
       "    </tr>\n",
       "    <tr>\n",
       "      <th>19</th>\n",
       "      <td>250000000</td>\n",
       "      <td>120.965743</td>\n",
       "      <td>144.0</td>\n",
       "      <td>4760</td>\n",
       "      <td>956019788</td>\n",
       "      <td>3</td>\n",
       "    </tr>\n",
       "    <tr>\n",
       "      <th>20</th>\n",
       "      <td>215000000</td>\n",
       "      <td>89.866276</td>\n",
       "      <td>136.0</td>\n",
       "      <td>6586</td>\n",
       "      <td>752215857</td>\n",
       "      <td>3</td>\n",
       "    </tr>\n",
       "    <tr>\n",
       "      <th>21</th>\n",
       "      <td>200000000</td>\n",
       "      <td>37.668301</td>\n",
       "      <td>140.0</td>\n",
       "      <td>1398</td>\n",
       "      <td>310669540</td>\n",
       "      <td>0</td>\n",
       "    </tr>\n",
       "    <tr>\n",
       "      <th>22</th>\n",
       "      <td>250000000</td>\n",
       "      <td>94.370564</td>\n",
       "      <td>161.0</td>\n",
       "      <td>4524</td>\n",
       "      <td>958400000</td>\n",
       "      <td>3</td>\n",
       "    </tr>\n",
       "    <tr>\n",
       "      <th>23</th>\n",
       "      <td>180000000</td>\n",
       "      <td>42.990906</td>\n",
       "      <td>113.0</td>\n",
       "      <td>1303</td>\n",
       "      <td>372234864</td>\n",
       "      <td>0</td>\n",
       "    </tr>\n",
       "    <tr>\n",
       "      <th>24</th>\n",
       "      <td>207000000</td>\n",
       "      <td>61.226010</td>\n",
       "      <td>187.0</td>\n",
       "      <td>2337</td>\n",
       "      <td>550000000</td>\n",
       "      <td>0</td>\n",
       "    </tr>\n",
       "    <tr>\n",
       "      <th>25</th>\n",
       "      <td>200000000</td>\n",
       "      <td>100.025899</td>\n",
       "      <td>194.0</td>\n",
       "      <td>7562</td>\n",
       "      <td>1845034188</td>\n",
       "      <td>4</td>\n",
       "    </tr>\n",
       "    <tr>\n",
       "      <th>26</th>\n",
       "      <td>250000000</td>\n",
       "      <td>198.372395</td>\n",
       "      <td>147.0</td>\n",
       "      <td>7241</td>\n",
       "      <td>1153304495</td>\n",
       "      <td>3</td>\n",
       "    </tr>\n",
       "    <tr>\n",
       "      <th>27</th>\n",
       "      <td>209000000</td>\n",
       "      <td>64.928382</td>\n",
       "      <td>131.0</td>\n",
       "      <td>2114</td>\n",
       "      <td>303025485</td>\n",
       "      <td>0</td>\n",
       "    </tr>\n",
       "    <tr>\n",
       "      <th>28</th>\n",
       "      <td>150000000</td>\n",
       "      <td>418.708552</td>\n",
       "      <td>124.0</td>\n",
       "      <td>8662</td>\n",
       "      <td>1513528810</td>\n",
       "      <td>4</td>\n",
       "    </tr>\n",
       "    <tr>\n",
       "      <th>29</th>\n",
       "      <td>200000000</td>\n",
       "      <td>93.004993</td>\n",
       "      <td>143.0</td>\n",
       "      <td>7604</td>\n",
       "      <td>1108561013</td>\n",
       "      <td>3</td>\n",
       "    </tr>\n",
       "    <tr>\n",
       "      <th>...</th>\n",
       "      <td>...</td>\n",
       "      <td>...</td>\n",
       "      <td>...</td>\n",
       "      <td>...</td>\n",
       "      <td>...</td>\n",
       "      <td>...</td>\n",
       "    </tr>\n",
       "    <tr>\n",
       "      <th>4742</th>\n",
       "      <td>65000</td>\n",
       "      <td>10.400603</td>\n",
       "      <td>100.0</td>\n",
       "      <td>506</td>\n",
       "      <td>28575078</td>\n",
       "      <td>1</td>\n",
       "    </tr>\n",
       "    <tr>\n",
       "      <th>4743</th>\n",
       "      <td>0</td>\n",
       "      <td>0.838957</td>\n",
       "      <td>82.0</td>\n",
       "      <td>11</td>\n",
       "      <td>0</td>\n",
       "      <td>1</td>\n",
       "    </tr>\n",
       "    <tr>\n",
       "      <th>4744</th>\n",
       "      <td>0</td>\n",
       "      <td>7.052422</td>\n",
       "      <td>82.0</td>\n",
       "      <td>58</td>\n",
       "      <td>0</td>\n",
       "      <td>1</td>\n",
       "    </tr>\n",
       "    <tr>\n",
       "      <th>4745</th>\n",
       "      <td>62000</td>\n",
       "      <td>2.407048</td>\n",
       "      <td>82.0</td>\n",
       "      <td>32</td>\n",
       "      <td>0</td>\n",
       "      <td>1</td>\n",
       "    </tr>\n",
       "    <tr>\n",
       "      <th>4748</th>\n",
       "      <td>70000</td>\n",
       "      <td>6.328665</td>\n",
       "      <td>92.0</td>\n",
       "      <td>121</td>\n",
       "      <td>0</td>\n",
       "      <td>1</td>\n",
       "    </tr>\n",
       "    <tr>\n",
       "      <th>4749</th>\n",
       "      <td>0</td>\n",
       "      <td>1.578903</td>\n",
       "      <td>98.0</td>\n",
       "      <td>23</td>\n",
       "      <td>0</td>\n",
       "      <td>1</td>\n",
       "    </tr>\n",
       "    <tr>\n",
       "      <th>4750</th>\n",
       "      <td>0</td>\n",
       "      <td>0.833937</td>\n",
       "      <td>83.0</td>\n",
       "      <td>42</td>\n",
       "      <td>0</td>\n",
       "      <td>1</td>\n",
       "    </tr>\n",
       "    <tr>\n",
       "      <th>4751</th>\n",
       "      <td>0</td>\n",
       "      <td>0.557602</td>\n",
       "      <td>99.0</td>\n",
       "      <td>2</td>\n",
       "      <td>0</td>\n",
       "      <td>1</td>\n",
       "    </tr>\n",
       "    <tr>\n",
       "      <th>4752</th>\n",
       "      <td>65000</td>\n",
       "      <td>2.380332</td>\n",
       "      <td>99.0</td>\n",
       "      <td>59</td>\n",
       "      <td>416498</td>\n",
       "      <td>1</td>\n",
       "    </tr>\n",
       "    <tr>\n",
       "      <th>4756</th>\n",
       "      <td>50000</td>\n",
       "      <td>1.777148</td>\n",
       "      <td>47.0</td>\n",
       "      <td>41</td>\n",
       "      <td>0</td>\n",
       "      <td>1</td>\n",
       "    </tr>\n",
       "    <tr>\n",
       "      <th>4758</th>\n",
       "      <td>4000000</td>\n",
       "      <td>27.662696</td>\n",
       "      <td>95.0</td>\n",
       "      <td>631</td>\n",
       "      <td>600896</td>\n",
       "      <td>1</td>\n",
       "    </tr>\n",
       "    <tr>\n",
       "      <th>4759</th>\n",
       "      <td>50000</td>\n",
       "      <td>0.545620</td>\n",
       "      <td>81.0</td>\n",
       "      <td>3</td>\n",
       "      <td>0</td>\n",
       "      <td>1</td>\n",
       "    </tr>\n",
       "    <tr>\n",
       "      <th>4766</th>\n",
       "      <td>0</td>\n",
       "      <td>3.277287</td>\n",
       "      <td>117.0</td>\n",
       "      <td>64</td>\n",
       "      <td>321952</td>\n",
       "      <td>1</td>\n",
       "    </tr>\n",
       "    <tr>\n",
       "      <th>4767</th>\n",
       "      <td>50000</td>\n",
       "      <td>0.595809</td>\n",
       "      <td>75.0</td>\n",
       "      <td>2</td>\n",
       "      <td>0</td>\n",
       "      <td>1</td>\n",
       "    </tr>\n",
       "    <tr>\n",
       "      <th>4773</th>\n",
       "      <td>27000</td>\n",
       "      <td>19.748658</td>\n",
       "      <td>92.0</td>\n",
       "      <td>755</td>\n",
       "      <td>3151130</td>\n",
       "      <td>1</td>\n",
       "    </tr>\n",
       "    <tr>\n",
       "      <th>4774</th>\n",
       "      <td>27000</td>\n",
       "      <td>0.027811</td>\n",
       "      <td>64.0</td>\n",
       "      <td>9</td>\n",
       "      <td>0</td>\n",
       "      <td>1</td>\n",
       "    </tr>\n",
       "    <tr>\n",
       "      <th>4776</th>\n",
       "      <td>0</td>\n",
       "      <td>2.634007</td>\n",
       "      <td>97.0</td>\n",
       "      <td>44</td>\n",
       "      <td>0</td>\n",
       "      <td>1</td>\n",
       "    </tr>\n",
       "    <tr>\n",
       "      <th>4778</th>\n",
       "      <td>0</td>\n",
       "      <td>7.101197</td>\n",
       "      <td>85.0</td>\n",
       "      <td>131</td>\n",
       "      <td>0</td>\n",
       "      <td>1</td>\n",
       "    </tr>\n",
       "    <tr>\n",
       "      <th>4783</th>\n",
       "      <td>0</td>\n",
       "      <td>3.619167</td>\n",
       "      <td>91.0</td>\n",
       "      <td>79</td>\n",
       "      <td>0</td>\n",
       "      <td>1</td>\n",
       "    </tr>\n",
       "    <tr>\n",
       "      <th>4788</th>\n",
       "      <td>12000</td>\n",
       "      <td>4.553644</td>\n",
       "      <td>93.0</td>\n",
       "      <td>110</td>\n",
       "      <td>6000000</td>\n",
       "      <td>1</td>\n",
       "    </tr>\n",
       "    <tr>\n",
       "      <th>4790</th>\n",
       "      <td>0</td>\n",
       "      <td>1.193779</td>\n",
       "      <td>90.0</td>\n",
       "      <td>17</td>\n",
       "      <td>0</td>\n",
       "      <td>1</td>\n",
       "    </tr>\n",
       "    <tr>\n",
       "      <th>4791</th>\n",
       "      <td>13</td>\n",
       "      <td>0.332679</td>\n",
       "      <td>84.0</td>\n",
       "      <td>1</td>\n",
       "      <td>0</td>\n",
       "      <td>1</td>\n",
       "    </tr>\n",
       "    <tr>\n",
       "      <th>4792</th>\n",
       "      <td>20000</td>\n",
       "      <td>0.212443</td>\n",
       "      <td>111.0</td>\n",
       "      <td>63</td>\n",
       "      <td>99000</td>\n",
       "      <td>1</td>\n",
       "    </tr>\n",
       "    <tr>\n",
       "      <th>4793</th>\n",
       "      <td>0</td>\n",
       "      <td>0.029757</td>\n",
       "      <td>90.0</td>\n",
       "      <td>2</td>\n",
       "      <td>0</td>\n",
       "      <td>1</td>\n",
       "    </tr>\n",
       "    <tr>\n",
       "      <th>4794</th>\n",
       "      <td>0</td>\n",
       "      <td>0.166513</td>\n",
       "      <td>82.0</td>\n",
       "      <td>0</td>\n",
       "      <td>0</td>\n",
       "      <td>1</td>\n",
       "    </tr>\n",
       "    <tr>\n",
       "      <th>4795</th>\n",
       "      <td>0</td>\n",
       "      <td>0.918116</td>\n",
       "      <td>98.0</td>\n",
       "      <td>1</td>\n",
       "      <td>0</td>\n",
       "      <td>1</td>\n",
       "    </tr>\n",
       "    <tr>\n",
       "      <th>4796</th>\n",
       "      <td>7000</td>\n",
       "      <td>23.307949</td>\n",
       "      <td>77.0</td>\n",
       "      <td>658</td>\n",
       "      <td>424760</td>\n",
       "      <td>1</td>\n",
       "    </tr>\n",
       "    <tr>\n",
       "      <th>4798</th>\n",
       "      <td>220000</td>\n",
       "      <td>14.269792</td>\n",
       "      <td>81.0</td>\n",
       "      <td>238</td>\n",
       "      <td>2040920</td>\n",
       "      <td>1</td>\n",
       "    </tr>\n",
       "    <tr>\n",
       "      <th>4800</th>\n",
       "      <td>0</td>\n",
       "      <td>1.444476</td>\n",
       "      <td>120.0</td>\n",
       "      <td>6</td>\n",
       "      <td>0</td>\n",
       "      <td>1</td>\n",
       "    </tr>\n",
       "    <tr>\n",
       "      <th>4802</th>\n",
       "      <td>0</td>\n",
       "      <td>1.929883</td>\n",
       "      <td>90.0</td>\n",
       "      <td>16</td>\n",
       "      <td>0</td>\n",
       "      <td>1</td>\n",
       "    </tr>\n",
       "  </tbody>\n",
       "</table>\n",
       "<p>4411 rows × 6 columns</p>\n",
       "</div>"
      ],
      "text/plain": [
       "         budget  popularity  duration  num_voted_users     revenue  \\\n",
       "0     237000000  150.437577     162.0            11800  2787965087   \n",
       "1     300000000  139.082615     169.0             4500   961000000   \n",
       "2     245000000  107.376788     148.0             4466   880674609   \n",
       "3     250000000  112.312950     165.0             9106  1084939099   \n",
       "4     260000000   43.926995     132.0             2124   284139100   \n",
       "5     258000000  115.699814     139.0             3576   890871626   \n",
       "6     260000000   48.681969     100.0             3330   591794936   \n",
       "7     280000000  134.279229     141.0             6767  1405403694   \n",
       "8     250000000   98.885637     153.0             5293   933959197   \n",
       "9     250000000  155.790452     151.0             7004   873260194   \n",
       "10    270000000   57.925623     154.0             1400   391081192   \n",
       "11    200000000  107.928811     106.0             2965   586090727   \n",
       "12    200000000  145.847379     151.0             5246  1065659812   \n",
       "13    255000000   49.046956     149.0             2311    89289910   \n",
       "14    225000000   99.398009     143.0             6359   662845518   \n",
       "15    225000000   53.978602     150.0             1630   419651413   \n",
       "16    220000000  144.448633     143.0            11776  1519557910   \n",
       "17    380000000  135.413856     136.0             4948  1045713802   \n",
       "18    225000000   52.035179     106.0             4160   624026776   \n",
       "19    250000000  120.965743     144.0             4760   956019788   \n",
       "20    215000000   89.866276     136.0             6586   752215857   \n",
       "21    200000000   37.668301     140.0             1398   310669540   \n",
       "22    250000000   94.370564     161.0             4524   958400000   \n",
       "23    180000000   42.990906     113.0             1303   372234864   \n",
       "24    207000000   61.226010     187.0             2337   550000000   \n",
       "25    200000000  100.025899     194.0             7562  1845034188   \n",
       "26    250000000  198.372395     147.0             7241  1153304495   \n",
       "27    209000000   64.928382     131.0             2114   303025485   \n",
       "28    150000000  418.708552     124.0             8662  1513528810   \n",
       "29    200000000   93.004993     143.0             7604  1108561013   \n",
       "...         ...         ...       ...              ...         ...   \n",
       "4742      65000   10.400603     100.0              506    28575078   \n",
       "4743          0    0.838957      82.0               11           0   \n",
       "4744          0    7.052422      82.0               58           0   \n",
       "4745      62000    2.407048      82.0               32           0   \n",
       "4748      70000    6.328665      92.0              121           0   \n",
       "4749          0    1.578903      98.0               23           0   \n",
       "4750          0    0.833937      83.0               42           0   \n",
       "4751          0    0.557602      99.0                2           0   \n",
       "4752      65000    2.380332      99.0               59      416498   \n",
       "4756      50000    1.777148      47.0               41           0   \n",
       "4758    4000000   27.662696      95.0              631      600896   \n",
       "4759      50000    0.545620      81.0                3           0   \n",
       "4766          0    3.277287     117.0               64      321952   \n",
       "4767      50000    0.595809      75.0                2           0   \n",
       "4773      27000   19.748658      92.0              755     3151130   \n",
       "4774      27000    0.027811      64.0                9           0   \n",
       "4776          0    2.634007      97.0               44           0   \n",
       "4778          0    7.101197      85.0              131           0   \n",
       "4783          0    3.619167      91.0               79           0   \n",
       "4788      12000    4.553644      93.0              110     6000000   \n",
       "4790          0    1.193779      90.0               17           0   \n",
       "4791         13    0.332679      84.0                1           0   \n",
       "4792      20000    0.212443     111.0               63       99000   \n",
       "4793          0    0.029757      90.0                2           0   \n",
       "4794          0    0.166513      82.0                0           0   \n",
       "4795          0    0.918116      98.0                1           0   \n",
       "4796       7000   23.307949      77.0              658      424760   \n",
       "4798     220000   14.269792      81.0              238     2040920   \n",
       "4800          0    1.444476     120.0                6           0   \n",
       "4802          0    1.929883      90.0               16           0   \n",
       "\n",
       "      revenue_cat  \n",
       "0               4  \n",
       "1               3  \n",
       "2               3  \n",
       "3               3  \n",
       "4               0  \n",
       "5               3  \n",
       "6               0  \n",
       "7               4  \n",
       "8               3  \n",
       "9               3  \n",
       "10              0  \n",
       "11              0  \n",
       "12              3  \n",
       "13              2  \n",
       "14              3  \n",
       "15              0  \n",
       "16              4  \n",
       "17              3  \n",
       "18              3  \n",
       "19              3  \n",
       "20              3  \n",
       "21              0  \n",
       "22              3  \n",
       "23              0  \n",
       "24              0  \n",
       "25              4  \n",
       "26              3  \n",
       "27              0  \n",
       "28              4  \n",
       "29              3  \n",
       "...           ...  \n",
       "4742            1  \n",
       "4743            1  \n",
       "4744            1  \n",
       "4745            1  \n",
       "4748            1  \n",
       "4749            1  \n",
       "4750            1  \n",
       "4751            1  \n",
       "4752            1  \n",
       "4756            1  \n",
       "4758            1  \n",
       "4759            1  \n",
       "4766            1  \n",
       "4767            1  \n",
       "4773            1  \n",
       "4774            1  \n",
       "4776            1  \n",
       "4778            1  \n",
       "4783            1  \n",
       "4788            1  \n",
       "4790            1  \n",
       "4791            1  \n",
       "4792            1  \n",
       "4793            1  \n",
       "4794            1  \n",
       "4795            1  \n",
       "4796            1  \n",
       "4798            1  \n",
       "4800            1  \n",
       "4802            1  \n",
       "\n",
       "[4411 rows x 6 columns]"
      ]
     },
     "execution_count": 41,
     "metadata": {},
     "output_type": "execute_result"
    }
   ],
   "source": [
    "a= df.groupby(['revenue_cat']).min()\n",
    "df"
   ]
  },
  {
   "cell_type": "code",
   "execution_count": 42,
   "metadata": {},
   "outputs": [
    {
     "data": {
      "text/html": [
       "<div>\n",
       "<style scoped>\n",
       "    .dataframe tbody tr th:only-of-type {\n",
       "        vertical-align: middle;\n",
       "    }\n",
       "\n",
       "    .dataframe tbody tr th {\n",
       "        vertical-align: top;\n",
       "    }\n",
       "\n",
       "    .dataframe thead th {\n",
       "        text-align: right;\n",
       "    }\n",
       "</style>\n",
       "<table border=\"1\" class=\"dataframe\">\n",
       "  <thead>\n",
       "    <tr style=\"text-align: right;\">\n",
       "      <th></th>\n",
       "      <th>budget</th>\n",
       "      <th>popularity</th>\n",
       "      <th>duration</th>\n",
       "      <th>num_voted_users</th>\n",
       "      <th>revenue</th>\n",
       "    </tr>\n",
       "    <tr>\n",
       "      <th>revenue_cat</th>\n",
       "      <th></th>\n",
       "      <th></th>\n",
       "      <th></th>\n",
       "      <th></th>\n",
       "      <th></th>\n",
       "    </tr>\n",
       "  </thead>\n",
       "  <tbody>\n",
       "    <tr>\n",
       "      <th>0</th>\n",
       "      <td>270000000</td>\n",
       "      <td>434.278564</td>\n",
       "      <td>238.0</td>\n",
       "      <td>10099</td>\n",
       "      <td>599045960</td>\n",
       "    </tr>\n",
       "    <tr>\n",
       "      <th>1</th>\n",
       "      <td>160000000</td>\n",
       "      <td>192.528841</td>\n",
       "      <td>338.0</td>\n",
       "      <td>8205</td>\n",
       "      <td>83615414</td>\n",
       "    </tr>\n",
       "    <tr>\n",
       "      <th>2</th>\n",
       "      <td>255000000</td>\n",
       "      <td>146.757391</td>\n",
       "      <td>197.0</td>\n",
       "      <td>9413</td>\n",
       "      <td>264218220</td>\n",
       "    </tr>\n",
       "    <tr>\n",
       "      <th>3</th>\n",
       "      <td>380000000</td>\n",
       "      <td>875.581305</td>\n",
       "      <td>201.0</td>\n",
       "      <td>13752</td>\n",
       "      <td>1274219009</td>\n",
       "    </tr>\n",
       "    <tr>\n",
       "      <th>4</th>\n",
       "      <td>280000000</td>\n",
       "      <td>418.708552</td>\n",
       "      <td>194.0</td>\n",
       "      <td>11800</td>\n",
       "      <td>2787965087</td>\n",
       "    </tr>\n",
       "  </tbody>\n",
       "</table>\n",
       "</div>"
      ],
      "text/plain": [
       "                budget  popularity  duration  num_voted_users     revenue\n",
       "revenue_cat                                                              \n",
       "0            270000000  434.278564     238.0            10099   599045960\n",
       "1            160000000  192.528841     338.0             8205    83615414\n",
       "2            255000000  146.757391     197.0             9413   264218220\n",
       "3            380000000  875.581305     201.0            13752  1274219009\n",
       "4            280000000  418.708552     194.0            11800  2787965087"
      ]
     },
     "execution_count": 42,
     "metadata": {},
     "output_type": "execute_result"
    }
   ],
   "source": [
    "df.groupby(['revenue_cat']).max()"
   ]
  },
  {
   "cell_type": "code",
   "execution_count": 43,
   "metadata": {},
   "outputs": [
    {
     "data": {
      "text/plain": [
       "<seaborn.axisgrid.FacetGrid at 0x1865db61e80>"
      ]
     },
     "execution_count": 43,
     "metadata": {},
     "output_type": "execute_result"
    },
    {
     "data": {
      "image/png": "[encoded data removed]",
      "text/plain": [
       "<Figure size 360x360 with 1 Axes>"
      ]
     },
     "metadata": {
      "needs_background": "light"
     },
     "output_type": "display_data"
    }
   ],
   "source": [
    "sns.catplot(x=\"revenue_cat\", y=\"revenue\", kind=\"box\", data=df)"
   ]
  },
  {
   "cell_type": "code",
   "execution_count": 44,
   "metadata": {},
   "outputs": [],
   "source": [
    "#sns.catplot(x=\"revenue_cat\", y=\"revenue\", kind=\"swarm\", data=df)"
   ]
  },
  {
   "cell_type": "markdown",
   "metadata": {},
   "source": [
    ">**Plot revenue cluster type vs number of movies**"
   ]
  },
  {
   "cell_type": "markdown",
   "metadata": {},
   "source": [
    "> Note: Cluster number in the x-axis represents the four revenue clusters (high, mid high, mid low, low) while the y-axis represents how many movies are within the cluster range"
   ]
  },
  {
   "cell_type": "markdown",
   "metadata": {
    "colab_type": "text",
    "id": "ljgfWjqk9fFa"
   },
   "source": [
    ">**Using the categorical revenue (revenue_cat) as data for y**"
   ]
  },
  {
   "cell_type": "code",
   "execution_count": null,
   "metadata": {},
   "outputs": [],
   "source": []
  },
  {
   "cell_type": "code",
   "execution_count": 45,
   "metadata": {
    "colab": {},
    "colab_type": "code",
    "id": "JdFG44y79fFd"
   },
   "outputs": [],
   "source": [
    "X = df.drop(['revenue_cat', 'revenue'], axis = 1)\n",
    "y = df['revenue_cat']"
   ]
  },
  {
   "cell_type": "code",
   "execution_count": 46,
   "metadata": {},
   "outputs": [
    {
     "data": {
      "text/html": [
       "<div>\n",
       "<style scoped>\n",
       "    .dataframe tbody tr th:only-of-type {\n",
       "        vertical-align: middle;\n",
       "    }\n",
       "\n",
       "    .dataframe tbody tr th {\n",
       "        vertical-align: top;\n",
       "    }\n",
       "\n",
       "    .dataframe thead th {\n",
       "        text-align: right;\n",
       "    }\n",
       "</style>\n",
       "<table border=\"1\" class=\"dataframe\">\n",
       "  <thead>\n",
       "    <tr style=\"text-align: right;\">\n",
       "      <th></th>\n",
       "      <th>budget</th>\n",
       "      <th>popularity</th>\n",
       "      <th>duration</th>\n",
       "      <th>num_voted_users</th>\n",
       "    </tr>\n",
       "  </thead>\n",
       "  <tbody>\n",
       "    <tr>\n",
       "      <th>0</th>\n",
       "      <td>237000000</td>\n",
       "      <td>150.437577</td>\n",
       "      <td>162.0</td>\n",
       "      <td>11800</td>\n",
       "    </tr>\n",
       "    <tr>\n",
       "      <th>1</th>\n",
       "      <td>300000000</td>\n",
       "      <td>139.082615</td>\n",
       "      <td>169.0</td>\n",
       "      <td>4500</td>\n",
       "    </tr>\n",
       "    <tr>\n",
       "      <th>2</th>\n",
       "      <td>245000000</td>\n",
       "      <td>107.376788</td>\n",
       "      <td>148.0</td>\n",
       "      <td>4466</td>\n",
       "    </tr>\n",
       "    <tr>\n",
       "      <th>3</th>\n",
       "      <td>250000000</td>\n",
       "      <td>112.312950</td>\n",
       "      <td>165.0</td>\n",
       "      <td>9106</td>\n",
       "    </tr>\n",
       "    <tr>\n",
       "      <th>4</th>\n",
       "      <td>260000000</td>\n",
       "      <td>43.926995</td>\n",
       "      <td>132.0</td>\n",
       "      <td>2124</td>\n",
       "    </tr>\n",
       "    <tr>\n",
       "      <th>5</th>\n",
       "      <td>258000000</td>\n",
       "      <td>115.699814</td>\n",
       "      <td>139.0</td>\n",
       "      <td>3576</td>\n",
       "    </tr>\n",
       "    <tr>\n",
       "      <th>6</th>\n",
       "      <td>260000000</td>\n",
       "      <td>48.681969</td>\n",
       "      <td>100.0</td>\n",
       "      <td>3330</td>\n",
       "    </tr>\n",
       "    <tr>\n",
       "      <th>7</th>\n",
       "      <td>280000000</td>\n",
       "      <td>134.279229</td>\n",
       "      <td>141.0</td>\n",
       "      <td>6767</td>\n",
       "    </tr>\n",
       "    <tr>\n",
       "      <th>8</th>\n",
       "      <td>250000000</td>\n",
       "      <td>98.885637</td>\n",
       "      <td>153.0</td>\n",
       "      <td>5293</td>\n",
       "    </tr>\n",
       "    <tr>\n",
       "      <th>9</th>\n",
       "      <td>250000000</td>\n",
       "      <td>155.790452</td>\n",
       "      <td>151.0</td>\n",
       "      <td>7004</td>\n",
       "    </tr>\n",
       "    <tr>\n",
       "      <th>10</th>\n",
       "      <td>270000000</td>\n",
       "      <td>57.925623</td>\n",
       "      <td>154.0</td>\n",
       "      <td>1400</td>\n",
       "    </tr>\n",
       "    <tr>\n",
       "      <th>11</th>\n",
       "      <td>200000000</td>\n",
       "      <td>107.928811</td>\n",
       "      <td>106.0</td>\n",
       "      <td>2965</td>\n",
       "    </tr>\n",
       "    <tr>\n",
       "      <th>12</th>\n",
       "      <td>200000000</td>\n",
       "      <td>145.847379</td>\n",
       "      <td>151.0</td>\n",
       "      <td>5246</td>\n",
       "    </tr>\n",
       "    <tr>\n",
       "      <th>13</th>\n",
       "      <td>255000000</td>\n",
       "      <td>49.046956</td>\n",
       "      <td>149.0</td>\n",
       "      <td>2311</td>\n",
       "    </tr>\n",
       "    <tr>\n",
       "      <th>14</th>\n",
       "      <td>225000000</td>\n",
       "      <td>99.398009</td>\n",
       "      <td>143.0</td>\n",
       "      <td>6359</td>\n",
       "    </tr>\n",
       "    <tr>\n",
       "      <th>15</th>\n",
       "      <td>225000000</td>\n",
       "      <td>53.978602</td>\n",
       "      <td>150.0</td>\n",
       "      <td>1630</td>\n",
       "    </tr>\n",
       "    <tr>\n",
       "      <th>16</th>\n",
       "      <td>220000000</td>\n",
       "      <td>144.448633</td>\n",
       "      <td>143.0</td>\n",
       "      <td>11776</td>\n",
       "    </tr>\n",
       "    <tr>\n",
       "      <th>17</th>\n",
       "      <td>380000000</td>\n",
       "      <td>135.413856</td>\n",
       "      <td>136.0</td>\n",
       "      <td>4948</td>\n",
       "    </tr>\n",
       "    <tr>\n",
       "      <th>18</th>\n",
       "      <td>225000000</td>\n",
       "      <td>52.035179</td>\n",
       "      <td>106.0</td>\n",
       "      <td>4160</td>\n",
       "    </tr>\n",
       "    <tr>\n",
       "      <th>19</th>\n",
       "      <td>250000000</td>\n",
       "      <td>120.965743</td>\n",
       "      <td>144.0</td>\n",
       "      <td>4760</td>\n",
       "    </tr>\n",
       "    <tr>\n",
       "      <th>20</th>\n",
       "      <td>215000000</td>\n",
       "      <td>89.866276</td>\n",
       "      <td>136.0</td>\n",
       "      <td>6586</td>\n",
       "    </tr>\n",
       "    <tr>\n",
       "      <th>21</th>\n",
       "      <td>200000000</td>\n",
       "      <td>37.668301</td>\n",
       "      <td>140.0</td>\n",
       "      <td>1398</td>\n",
       "    </tr>\n",
       "    <tr>\n",
       "      <th>22</th>\n",
       "      <td>250000000</td>\n",
       "      <td>94.370564</td>\n",
       "      <td>161.0</td>\n",
       "      <td>4524</td>\n",
       "    </tr>\n",
       "    <tr>\n",
       "      <th>23</th>\n",
       "      <td>180000000</td>\n",
       "      <td>42.990906</td>\n",
       "      <td>113.0</td>\n",
       "      <td>1303</td>\n",
       "    </tr>\n",
       "    <tr>\n",
       "      <th>24</th>\n",
       "      <td>207000000</td>\n",
       "      <td>61.226010</td>\n",
       "      <td>187.0</td>\n",
       "      <td>2337</td>\n",
       "    </tr>\n",
       "    <tr>\n",
       "      <th>25</th>\n",
       "      <td>200000000</td>\n",
       "      <td>100.025899</td>\n",
       "      <td>194.0</td>\n",
       "      <td>7562</td>\n",
       "    </tr>\n",
       "    <tr>\n",
       "      <th>26</th>\n",
       "      <td>250000000</td>\n",
       "      <td>198.372395</td>\n",
       "      <td>147.0</td>\n",
       "      <td>7241</td>\n",
       "    </tr>\n",
       "    <tr>\n",
       "      <th>27</th>\n",
       "      <td>209000000</td>\n",
       "      <td>64.928382</td>\n",
       "      <td>131.0</td>\n",
       "      <td>2114</td>\n",
       "    </tr>\n",
       "    <tr>\n",
       "      <th>28</th>\n",
       "      <td>150000000</td>\n",
       "      <td>418.708552</td>\n",
       "      <td>124.0</td>\n",
       "      <td>8662</td>\n",
       "    </tr>\n",
       "    <tr>\n",
       "      <th>29</th>\n",
       "      <td>200000000</td>\n",
       "      <td>93.004993</td>\n",
       "      <td>143.0</td>\n",
       "      <td>7604</td>\n",
       "    </tr>\n",
       "    <tr>\n",
       "      <th>...</th>\n",
       "      <td>...</td>\n",
       "      <td>...</td>\n",
       "      <td>...</td>\n",
       "      <td>...</td>\n",
       "    </tr>\n",
       "    <tr>\n",
       "      <th>4742</th>\n",
       "      <td>65000</td>\n",
       "      <td>10.400603</td>\n",
       "      <td>100.0</td>\n",
       "      <td>506</td>\n",
       "    </tr>\n",
       "    <tr>\n",
       "      <th>4743</th>\n",
       "      <td>0</td>\n",
       "      <td>0.838957</td>\n",
       "      <td>82.0</td>\n",
       "      <td>11</td>\n",
       "    </tr>\n",
       "    <tr>\n",
       "      <th>4744</th>\n",
       "      <td>0</td>\n",
       "      <td>7.052422</td>\n",
       "      <td>82.0</td>\n",
       "      <td>58</td>\n",
       "    </tr>\n",
       "    <tr>\n",
       "      <th>4745</th>\n",
       "      <td>62000</td>\n",
       "      <td>2.407048</td>\n",
       "      <td>82.0</td>\n",
       "      <td>32</td>\n",
       "    </tr>\n",
       "    <tr>\n",
       "      <th>4748</th>\n",
       "      <td>70000</td>\n",
       "      <td>6.328665</td>\n",
       "      <td>92.0</td>\n",
       "      <td>121</td>\n",
       "    </tr>\n",
       "    <tr>\n",
       "      <th>4749</th>\n",
       "      <td>0</td>\n",
       "      <td>1.578903</td>\n",
       "      <td>98.0</td>\n",
       "      <td>23</td>\n",
       "    </tr>\n",
       "    <tr>\n",
       "      <th>4750</th>\n",
       "      <td>0</td>\n",
       "      <td>0.833937</td>\n",
       "      <td>83.0</td>\n",
       "      <td>42</td>\n",
       "    </tr>\n",
       "    <tr>\n",
       "      <th>4751</th>\n",
       "      <td>0</td>\n",
       "      <td>0.557602</td>\n",
       "      <td>99.0</td>\n",
       "      <td>2</td>\n",
       "    </tr>\n",
       "    <tr>\n",
       "      <th>4752</th>\n",
       "      <td>65000</td>\n",
       "      <td>2.380332</td>\n",
       "      <td>99.0</td>\n",
       "      <td>59</td>\n",
       "    </tr>\n",
       "    <tr>\n",
       "      <th>4756</th>\n",
       "      <td>50000</td>\n",
       "      <td>1.777148</td>\n",
       "      <td>47.0</td>\n",
       "      <td>41</td>\n",
       "    </tr>\n",
       "    <tr>\n",
       "      <th>4758</th>\n",
       "      <td>4000000</td>\n",
       "      <td>27.662696</td>\n",
       "      <td>95.0</td>\n",
       "      <td>631</td>\n",
       "    </tr>\n",
       "    <tr>\n",
       "      <th>4759</th>\n",
       "      <td>50000</td>\n",
       "      <td>0.545620</td>\n",
       "      <td>81.0</td>\n",
       "      <td>3</td>\n",
       "    </tr>\n",
       "    <tr>\n",
       "      <th>4766</th>\n",
       "      <td>0</td>\n",
       "      <td>3.277287</td>\n",
       "      <td>117.0</td>\n",
       "      <td>64</td>\n",
       "    </tr>\n",
       "    <tr>\n",
       "      <th>4767</th>\n",
       "      <td>50000</td>\n",
       "      <td>0.595809</td>\n",
       "      <td>75.0</td>\n",
       "      <td>2</td>\n",
       "    </tr>\n",
       "    <tr>\n",
       "      <th>4773</th>\n",
       "      <td>27000</td>\n",
       "      <td>19.748658</td>\n",
       "      <td>92.0</td>\n",
       "      <td>755</td>\n",
       "    </tr>\n",
       "    <tr>\n",
       "      <th>4774</th>\n",
       "      <td>27000</td>\n",
       "      <td>0.027811</td>\n",
       "      <td>64.0</td>\n",
       "      <td>9</td>\n",
       "    </tr>\n",
       "    <tr>\n",
       "      <th>4776</th>\n",
       "      <td>0</td>\n",
       "      <td>2.634007</td>\n",
       "      <td>97.0</td>\n",
       "      <td>44</td>\n",
       "    </tr>\n",
       "    <tr>\n",
       "      <th>4778</th>\n",
       "      <td>0</td>\n",
       "      <td>7.101197</td>\n",
       "      <td>85.0</td>\n",
       "      <td>131</td>\n",
       "    </tr>\n",
       "    <tr>\n",
       "      <th>4783</th>\n",
       "      <td>0</td>\n",
       "      <td>3.619167</td>\n",
       "      <td>91.0</td>\n",
       "      <td>79</td>\n",
       "    </tr>\n",
       "    <tr>\n",
       "      <th>4788</th>\n",
       "      <td>12000</td>\n",
       "      <td>4.553644</td>\n",
       "      <td>93.0</td>\n",
       "      <td>110</td>\n",
       "    </tr>\n",
       "    <tr>\n",
       "      <th>4790</th>\n",
       "      <td>0</td>\n",
       "      <td>1.193779</td>\n",
       "      <td>90.0</td>\n",
       "      <td>17</td>\n",
       "    </tr>\n",
       "    <tr>\n",
       "      <th>4791</th>\n",
       "      <td>13</td>\n",
       "      <td>0.332679</td>\n",
       "      <td>84.0</td>\n",
       "      <td>1</td>\n",
       "    </tr>\n",
       "    <tr>\n",
       "      <th>4792</th>\n",
       "      <td>20000</td>\n",
       "      <td>0.212443</td>\n",
       "      <td>111.0</td>\n",
       "      <td>63</td>\n",
       "    </tr>\n",
       "    <tr>\n",
       "      <th>4793</th>\n",
       "      <td>0</td>\n",
       "      <td>0.029757</td>\n",
       "      <td>90.0</td>\n",
       "      <td>2</td>\n",
       "    </tr>\n",
       "    <tr>\n",
       "      <th>4794</th>\n",
       "      <td>0</td>\n",
       "      <td>0.166513</td>\n",
       "      <td>82.0</td>\n",
       "      <td>0</td>\n",
       "    </tr>\n",
       "    <tr>\n",
       "      <th>4795</th>\n",
       "      <td>0</td>\n",
       "      <td>0.918116</td>\n",
       "      <td>98.0</td>\n",
       "      <td>1</td>\n",
       "    </tr>\n",
       "    <tr>\n",
       "      <th>4796</th>\n",
       "      <td>7000</td>\n",
       "      <td>23.307949</td>\n",
       "      <td>77.0</td>\n",
       "      <td>658</td>\n",
       "    </tr>\n",
       "    <tr>\n",
       "      <th>4798</th>\n",
       "      <td>220000</td>\n",
       "      <td>14.269792</td>\n",
       "      <td>81.0</td>\n",
       "      <td>238</td>\n",
       "    </tr>\n",
       "    <tr>\n",
       "      <th>4800</th>\n",
       "      <td>0</td>\n",
       "      <td>1.444476</td>\n",
       "      <td>120.0</td>\n",
       "      <td>6</td>\n",
       "    </tr>\n",
       "    <tr>\n",
       "      <th>4802</th>\n",
       "      <td>0</td>\n",
       "      <td>1.929883</td>\n",
       "      <td>90.0</td>\n",
       "      <td>16</td>\n",
       "    </tr>\n",
       "  </tbody>\n",
       "</table>\n",
       "<p>4411 rows × 4 columns</p>\n",
       "</div>"
      ],
      "text/plain": [
       "         budget  popularity  duration  num_voted_users\n",
       "0     237000000  150.437577     162.0            11800\n",
       "1     300000000  139.082615     169.0             4500\n",
       "2     245000000  107.376788     148.0             4466\n",
       "3     250000000  112.312950     165.0             9106\n",
       "4     260000000   43.926995     132.0             2124\n",
       "5     258000000  115.699814     139.0             3576\n",
       "6     260000000   48.681969     100.0             3330\n",
       "7     280000000  134.279229     141.0             6767\n",
       "8     250000000   98.885637     153.0             5293\n",
       "9     250000000  155.790452     151.0             7004\n",
       "10    270000000   57.925623     154.0             1400\n",
       "11    200000000  107.928811     106.0             2965\n",
       "12    200000000  145.847379     151.0             5246\n",
       "13    255000000   49.046956     149.0             2311\n",
       "14    225000000   99.398009     143.0             6359\n",
       "15    225000000   53.978602     150.0             1630\n",
       "16    220000000  144.448633     143.0            11776\n",
       "17    380000000  135.413856     136.0             4948\n",
       "18    225000000   52.035179     106.0             4160\n",
       "19    250000000  120.965743     144.0             4760\n",
       "20    215000000   89.866276     136.0             6586\n",
       "21    200000000   37.668301     140.0             1398\n",
       "22    250000000   94.370564     161.0             4524\n",
       "23    180000000   42.990906     113.0             1303\n",
       "24    207000000   61.226010     187.0             2337\n",
       "25    200000000  100.025899     194.0             7562\n",
       "26    250000000  198.372395     147.0             7241\n",
       "27    209000000   64.928382     131.0             2114\n",
       "28    150000000  418.708552     124.0             8662\n",
       "29    200000000   93.004993     143.0             7604\n",
       "...         ...         ...       ...              ...\n",
       "4742      65000   10.400603     100.0              506\n",
       "4743          0    0.838957      82.0               11\n",
       "4744          0    7.052422      82.0               58\n",
       "4745      62000    2.407048      82.0               32\n",
       "4748      70000    6.328665      92.0              121\n",
       "4749          0    1.578903      98.0               23\n",
       "4750          0    0.833937      83.0               42\n",
       "4751          0    0.557602      99.0                2\n",
       "4752      65000    2.380332      99.0               59\n",
       "4756      50000    1.777148      47.0               41\n",
       "4758    4000000   27.662696      95.0              631\n",
       "4759      50000    0.545620      81.0                3\n",
       "4766          0    3.277287     117.0               64\n",
       "4767      50000    0.595809      75.0                2\n",
       "4773      27000   19.748658      92.0              755\n",
       "4774      27000    0.027811      64.0                9\n",
       "4776          0    2.634007      97.0               44\n",
       "4778          0    7.101197      85.0              131\n",
       "4783          0    3.619167      91.0               79\n",
       "4788      12000    4.553644      93.0              110\n",
       "4790          0    1.193779      90.0               17\n",
       "4791         13    0.332679      84.0                1\n",
       "4792      20000    0.212443     111.0               63\n",
       "4793          0    0.029757      90.0                2\n",
       "4794          0    0.166513      82.0                0\n",
       "4795          0    0.918116      98.0                1\n",
       "4796       7000   23.307949      77.0              658\n",
       "4798     220000   14.269792      81.0              238\n",
       "4800          0    1.444476     120.0                6\n",
       "4802          0    1.929883      90.0               16\n",
       "\n",
       "[4411 rows x 4 columns]"
      ]
     },
     "execution_count": 46,
     "metadata": {},
     "output_type": "execute_result"
    }
   ],
   "source": [
    "X"
   ]
  },
  {
   "cell_type": "code",
   "execution_count": 47,
   "metadata": {
    "colab": {},
    "colab_type": "code",
    "id": "Ak2kp0fm9fFj"
   },
   "outputs": [],
   "source": [
    "# Splitting the dataset into the Training set and Test set\n",
    "from sklearn.model_selection import train_test_split\n",
    "\n",
    "X_train, X_test, y_train, y_test = train_test_split(X, y, test_size=0.2, random_state=0) "
   ]
  },
  {
   "cell_type": "code",
   "execution_count": 48,
   "metadata": {
    "colab": {},
    "colab_type": "code",
    "id": "HAT2UMb89fFx"
   },
   "outputs": [
    {
     "name": "stderr",
     "output_type": "stream",
     "text": [
      "C:\\Users\\Dr. Ir. Bala Kumar\\Anaconda3\\lib\\site-packages\\sklearn\\preprocessing\\data.py:625: DataConversionWarning: Data with input dtype int64, float64 were all converted to float64 by StandardScaler.\n",
      "  return self.partial_fit(X, y)\n",
      "C:\\Users\\Dr. Ir. Bala Kumar\\Anaconda3\\lib\\site-packages\\sklearn\\base.py:462: DataConversionWarning: Data with input dtype int64, float64 were all converted to float64 by StandardScaler.\n",
      "  return self.fit(X, **fit_params).transform(X)\n",
      "C:\\Users\\Dr. Ir. Bala Kumar\\Anaconda3\\lib\\site-packages\\ipykernel_launcher.py:5: DataConversionWarning: Data with input dtype int64, float64 were all converted to float64 by StandardScaler.\n",
      "  \"\"\"\n"
     ]
    }
   ],
   "source": [
    "# Feature Scaling\n",
    "from sklearn.preprocessing import StandardScaler\n",
    "sc = StandardScaler()\n",
    "X_train = sc.fit_transform(X_train)\n",
    "X_test = sc.transform(X_test)"
   ]
  },
  {
   "cell_type": "markdown",
   "metadata": {
    "colab_type": "text",
    "id": "1gSBuWEK9fF3"
   },
   "source": [
    "## 5.1 Random Forest Classifier"
   ]
  },
  {
   "cell_type": "code",
   "execution_count": 49,
   "metadata": {},
   "outputs": [
    {
     "data": {
      "text/plain": [
       "(3528, 4)"
      ]
     },
     "execution_count": 49,
     "metadata": {},
     "output_type": "execute_result"
    }
   ],
   "source": [
    "X_train.shape"
   ]
  },
  {
   "cell_type": "code",
   "execution_count": 50,
   "metadata": {
    "colab": {},
    "colab_type": "code",
    "id": "2eyej3MK9fF4"
   },
   "outputs": [
    {
     "data": {
      "text/plain": [
       "RandomForestClassifier(bootstrap=True, class_weight=None, criterion='entropy',\n",
       "            max_depth=None, max_features='auto', max_leaf_nodes=None,\n",
       "            min_impurity_decrease=0.0, min_impurity_split=None,\n",
       "            min_samples_leaf=1, min_samples_split=2,\n",
       "            min_weight_fraction_leaf=0.0, n_estimators=10, n_jobs=None,\n",
       "            oob_score=False, random_state=0, verbose=0, warm_start=False)"
      ]
     },
     "execution_count": 50,
     "metadata": {},
     "output_type": "execute_result"
    }
   ],
   "source": [
    "from sklearn.ensemble import RandomForestClassifier\n",
    "RFC = RandomForestClassifier(n_estimators = 10, criterion='entropy', random_state = 0)\n",
    "RFC.fit(X_train, y_train) "
   ]
  },
  {
   "cell_type": "code",
   "execution_count": 51,
   "metadata": {
    "colab": {},
    "colab_type": "code",
    "id": "jWMh_L9v9fGD"
   },
   "outputs": [],
   "source": [
    "y_pred = RFC.predict(X_test)"
   ]
  },
  {
   "cell_type": "code",
   "execution_count": 52,
   "metadata": {
    "colab": {},
    "colab_type": "code",
    "id": "V6xgMkdM9fGG"
   },
   "outputs": [
    {
     "name": "stdout",
     "output_type": "stream",
     "text": [
      "confusion matrix:\n",
      "[[ 22   4  29   2]\n",
      " [  5 572  49   0]\n",
      " [ 17  62 103   2]\n",
      " [  6   0   1   9]]\n",
      "accuracy_score 0.7995469988674971\n"
     ]
    }
   ],
   "source": [
    "evaluate_classification(y_test, y_pred,\"Random Forest\")\n"
   ]
  },
  {
   "cell_type": "code",
   "execution_count": 53,
   "metadata": {
    "colab": {},
    "colab_type": "code",
    "id": "gL6ZbCt89fGL"
   },
   "outputs": [
    {
     "data": {
      "text/plain": [
       "<matplotlib.axes._subplots.AxesSubplot at 0x1865d9cd898>"
      ]
     },
     "execution_count": 53,
     "metadata": {},
     "output_type": "execute_result"
    },
    {
     "data": {
      "image/png": "[encoded data removed]",
      "text/plain": [
       "<Figure size 432x288 with 2 Axes>"
      ]
     },
     "metadata": {
      "needs_background": "light"
     },
     "output_type": "display_data"
    }
   ],
   "source": [
    "RFcm = confusion_matrix(y_test, y_pred)\n",
    "sns.heatmap(RFcm, annot=True, fmt=\"d\")"
   ]
  },
  {
   "cell_type": "markdown",
   "metadata": {
    "colab_type": "text",
    "id": "6N_5XBiG9fGQ"
   },
   "source": [
    "## 5.2 Naive Bayes\n"
   ]
  },
  {
   "cell_type": "code",
   "execution_count": 54,
   "metadata": {
    "colab": {},
    "colab_type": "code",
    "id": "9WcWI_ih9fGR"
   },
   "outputs": [
    {
     "data": {
      "text/plain": [
       "GaussianNB(priors=None, var_smoothing=1e-09)"
      ]
     },
     "execution_count": 54,
     "metadata": {},
     "output_type": "execute_result"
    }
   ],
   "source": [
    "# Fitting classifier to the Training set\n",
    "from sklearn.naive_bayes import GaussianNB\n",
    "NB = GaussianNB()\n",
    "NB.fit(X_train, y_train)"
   ]
  },
  {
   "cell_type": "code",
   "execution_count": 55,
   "metadata": {
    "colab": {},
    "colab_type": "code",
    "id": "Ps7E3wdv9fGV"
   },
   "outputs": [],
   "source": [
    "# Predicting the Test set results\n",
    "y_pred = NB.predict(X_test)"
   ]
  },
  {
   "cell_type": "code",
   "execution_count": 56,
   "metadata": {
    "colab": {},
    "colab_type": "code",
    "id": "T7qyRhb09fGZ"
   },
   "outputs": [
    {
     "name": "stdout",
     "output_type": "stream",
     "text": [
      "confusion matrix:\n",
      "[[ 25   3  26   3]\n",
      " [  5 571  49   1]\n",
      " [ 11  73  98   2]\n",
      " [  6   0   1   9]]\n",
      "accuracy_score 0.796149490373726\n"
     ]
    }
   ],
   "source": [
    "evaluate_classification(y_test, y_pred,\"Naive Bayes\")"
   ]
  },
  {
   "cell_type": "code",
   "execution_count": 57,
   "metadata": {
    "colab": {},
    "colab_type": "code",
    "id": "xZakQmVz9fGd"
   },
   "outputs": [
    {
     "data": {
      "text/plain": [
       "<matplotlib.axes._subplots.AxesSubplot at 0x1865e5f1518>"
      ]
     },
     "execution_count": 57,
     "metadata": {},
     "output_type": "execute_result"
    },
    {
     "data": {
      "image/png": "[encoded data removed]",
      "text/plain": [
       "<Figure size 432x288 with 2 Axes>"
      ]
     },
     "metadata": {
      "needs_background": "light"
     },
     "output_type": "display_data"
    }
   ],
   "source": [
    "NBcm = confusion_matrix(y_test, y_pred)\n",
    "sns.heatmap(NBcm, annot=True, fmt=\"d\")"
   ]
  },
  {
   "cell_type": "markdown",
   "metadata": {
    "colab_type": "text",
    "id": "jUWmxNI_9fGj"
   },
   "source": [
    "\n",
    "## 5.3 SVM"
   ]
  },
  {
   "cell_type": "code",
   "execution_count": 58,
   "metadata": {
    "colab": {},
    "colab_type": "code",
    "id": "TGdLZRgl9fGj"
   },
   "outputs": [
    {
     "data": {
      "text/plain": [
       "SVC(C=1.0, cache_size=200, class_weight=None, coef0=0.0,\n",
       "  decision_function_shape='ovr', degree=3, gamma='auto_deprecated',\n",
       "  kernel='linear', max_iter=-1, probability=False, random_state=0,\n",
       "  shrinking=True, tol=0.001, verbose=False)"
      ]
     },
     "execution_count": 58,
     "metadata": {},
     "output_type": "execute_result"
    }
   ],
   "source": [
    "# Fitting SVM to the Training set\n",
    "from sklearn.svm import SVC\n",
    "SVM = SVC(kernel = 'linear', random_state = 0)\n",
    "SVM.fit(X_train, y_train)"
   ]
  },
  {
   "cell_type": "code",
   "execution_count": 59,
   "metadata": {
    "colab": {},
    "colab_type": "code",
    "id": "dUikm40d9fGn"
   },
   "outputs": [],
   "source": [
    "# Predicting the Test set results\n",
    "y_pred = SVM.predict(X_test)"
   ]
  },
  {
   "cell_type": "code",
   "execution_count": 60,
   "metadata": {
    "colab": {},
    "colab_type": "code",
    "id": "C7j6UnEo9fGr"
   },
   "outputs": [
    {
     "name": "stdout",
     "output_type": "stream",
     "text": [
      "confusion matrix:\n",
      "[[ 21   5  28   3]\n",
      " [  0 588  38   0]\n",
      " [  8  82  93   1]\n",
      " [  7   0   0   9]]\n",
      "accuracy_score 0.8052095130237825\n"
     ]
    }
   ],
   "source": [
    "evaluate_classification(y_test, y_pred,\"SVM-linear\")"
   ]
  },
  {
   "cell_type": "code",
   "execution_count": 61,
   "metadata": {
    "colab": {},
    "colab_type": "code",
    "id": "Y4orlFAj9fGu"
   },
   "outputs": [
    {
     "data": {
      "text/plain": [
       "<matplotlib.axes._subplots.AxesSubplot at 0x1865e69f630>"
      ]
     },
     "execution_count": 61,
     "metadata": {},
     "output_type": "execute_result"
    },
    {
     "data": {
      "image/png": "[encoded data removed]",
      "text/plain": [
       "<Figure size 432x288 with 2 Axes>"
      ]
     },
     "metadata": {
      "needs_background": "light"
     },
     "output_type": "display_data"
    }
   ],
   "source": [
    "SVMcm = confusion_matrix(y_test, y_pred)\n",
    "sns.heatmap(SVMcm, annot=True, fmt=\"d\")"
   ]
  },
  {
   "cell_type": "markdown",
   "metadata": {
    "colab_type": "text",
    "id": "4WZJKSQ-9fGx"
   },
   "source": [
    "## 5.4 Decision Tree Classifier "
   ]
  },
  {
   "cell_type": "code",
   "execution_count": 62,
   "metadata": {
    "colab": {},
    "colab_type": "code",
    "id": "tZHBsnmh9fGy"
   },
   "outputs": [
    {
     "data": {
      "text/plain": [
       "DecisionTreeClassifier(class_weight=None, criterion='entropy', max_depth=None,\n",
       "            max_features=None, max_leaf_nodes=None,\n",
       "            min_impurity_decrease=0.0, min_impurity_split=None,\n",
       "            min_samples_leaf=1, min_samples_split=2,\n",
       "            min_weight_fraction_leaf=0.0, presort=False, random_state=0,\n",
       "            splitter='best')"
      ]
     },
     "execution_count": 62,
     "metadata": {},
     "output_type": "execute_result"
    }
   ],
   "source": [
    "from sklearn.tree import DecisionTreeClassifier\n",
    "DT = DecisionTreeClassifier(criterion='entropy', random_state = 0)\n",
    "DT.fit(X_train, y_train) "
   ]
  },
  {
   "cell_type": "code",
   "execution_count": 63,
   "metadata": {
    "colab": {},
    "colab_type": "code",
    "id": "-WTvXKYY9fG2"
   },
   "outputs": [],
   "source": [
    "# Predicting the Test set results\n",
    "\n",
    "y_pred = DT.predict(X_test)\n",
    "#print(y_pred)"
   ]
  },
  {
   "cell_type": "code",
   "execution_count": 64,
   "metadata": {
    "colab": {},
    "colab_type": "code",
    "id": "Sv-a4byr9fG5"
   },
   "outputs": [
    {
     "name": "stdout",
     "output_type": "stream",
     "text": [
      "confusion matrix:\n",
      "[[ 22   4  29   2   0]\n",
      " [  6 549  70   1   0]\n",
      " [ 20  65  95   4   0]\n",
      " [  5   0   1   9   1]\n",
      " [  0   0   0   0   0]]\n",
      "accuracy_score 0.7644394110985278\n"
     ]
    }
   ],
   "source": [
    "evaluate_classification(y_test, y_pred,\"Decision Tree\")"
   ]
  },
  {
   "cell_type": "code",
   "execution_count": 65,
   "metadata": {
    "colab": {},
    "colab_type": "code",
    "id": "tjAKaMnn9fG8",
    "scrolled": true
   },
   "outputs": [
    {
     "data": {
      "text/plain": [
       "<matplotlib.axes._subplots.AxesSubplot at 0x1865e886780>"
      ]
     },
     "execution_count": 65,
     "metadata": {},
     "output_type": "execute_result"
    },
    {
     "data": {
      "image/png": "[encoded data removed]",
      "text/plain": [
       "<Figure size 432x288 with 2 Axes>"
      ]
     },
     "metadata": {
      "needs_background": "light"
     },
     "output_type": "display_data"
    }
   ],
   "source": [
    "DTcm = confusion_matrix(y_test, y_pred)\n",
    "sns.heatmap(DTcm, annot=True, fmt=\"d\")"
   ]
  },
  {
   "cell_type": "markdown",
   "metadata": {},
   "source": [
    "## 6. Model accuracy"
   ]
  },
  {
   "cell_type": "code",
   "execution_count": 66,
   "metadata": {
    "scrolled": true
   },
   "outputs": [
    {
     "data": {
      "text/html": [
       "<div>\n",
       "<style scoped>\n",
       "    .dataframe tbody tr th:only-of-type {\n",
       "        vertical-align: middle;\n",
       "    }\n",
       "\n",
       "    .dataframe tbody tr th {\n",
       "        vertical-align: top;\n",
       "    }\n",
       "\n",
       "    .dataframe thead th {\n",
       "        text-align: right;\n",
       "    }\n",
       "</style>\n",
       "<table border=\"1\" class=\"dataframe\">\n",
       "  <thead>\n",
       "    <tr style=\"text-align: right;\">\n",
       "      <th></th>\n",
       "      <th>Accuracy</th>\n",
       "    </tr>\n",
       "  </thead>\n",
       "  <tbody>\n",
       "    <tr>\n",
       "      <th>SVM-linear</th>\n",
       "      <td>0.805210</td>\n",
       "    </tr>\n",
       "    <tr>\n",
       "      <th>Random Forest</th>\n",
       "      <td>0.799547</td>\n",
       "    </tr>\n",
       "    <tr>\n",
       "      <th>Naive Bayes</th>\n",
       "      <td>0.796149</td>\n",
       "    </tr>\n",
       "    <tr>\n",
       "      <th>Decision Tree</th>\n",
       "      <td>0.764439</td>\n",
       "    </tr>\n",
       "  </tbody>\n",
       "</table>\n",
       "</div>"
      ],
      "text/plain": [
       "               Accuracy\n",
       "SVM-linear     0.805210\n",
       "Random Forest  0.799547\n",
       "Naive Bayes    0.796149\n",
       "Decision Tree  0.764439"
      ]
     },
     "execution_count": 66,
     "metadata": {},
     "output_type": "execute_result"
    }
   ],
   "source": [
    "score_table =pd.DataFrame(score_array,model_name)\n",
    "score_table.columns = [\"Accuracy\"]\n",
    "score_table.sort_values(by=\"Accuracy\",ascending = False)\n",
    "\n"
   ]
  },
  {
   "cell_type": "code",
   "execution_count": 67,
   "metadata": {},
   "outputs": [
    {
     "data": {
      "text/html": [
       "<div>\n",
       "<style scoped>\n",
       "    .dataframe tbody tr th:only-of-type {\n",
       "        vertical-align: middle;\n",
       "    }\n",
       "\n",
       "    .dataframe tbody tr th {\n",
       "        vertical-align: top;\n",
       "    }\n",
       "\n",
       "    .dataframe thead th {\n",
       "        text-align: right;\n",
       "    }\n",
       "</style>\n",
       "<table border=\"1\" class=\"dataframe\">\n",
       "  <thead>\n",
       "    <tr style=\"text-align: right;\">\n",
       "      <th></th>\n",
       "      <th>R^2</th>\n",
       "    </tr>\n",
       "  </thead>\n",
       "  <tbody>\n",
       "    <tr>\n",
       "      <th>RandomForestRegressor</th>\n",
       "      <td>0.711942</td>\n",
       "    </tr>\n",
       "    <tr>\n",
       "      <th>GradientBoostingRegressor</th>\n",
       "      <td>0.703441</td>\n",
       "    </tr>\n",
       "    <tr>\n",
       "      <th>KNeighborsRegressor</th>\n",
       "      <td>0.694051</td>\n",
       "    </tr>\n",
       "    <tr>\n",
       "      <th>DecisionTreeRegressor</th>\n",
       "      <td>0.679340</td>\n",
       "    </tr>\n",
       "    <tr>\n",
       "      <th>KernelRidge</th>\n",
       "      <td>0.669036</td>\n",
       "    </tr>\n",
       "    <tr>\n",
       "      <th>LinearRegression</th>\n",
       "      <td>0.657664</td>\n",
       "    </tr>\n",
       "  </tbody>\n",
       "</table>\n",
       "</div>"
      ],
      "text/plain": [
       "                                R^2\n",
       "RandomForestRegressor      0.711942\n",
       "GradientBoostingRegressor  0.703441\n",
       "KNeighborsRegressor        0.694051\n",
       "DecisionTreeRegressor      0.679340\n",
       "KernelRidge                0.669036\n",
       "LinearRegression           0.657664"
      ]
     },
     "execution_count": 67,
     "metadata": {},
     "output_type": "execute_result"
    }
   ],
   "source": [
    "R_table =pd.DataFrame(R_square_array,model_R_name)\n",
    "R_table.columns = [\"R^2\"]\n",
    "R_table.sort_values(by=\"R^2\",ascending = False)\n",
    "\n",
    "# score_array =[]\n",
    "# R_square_array = []\n",
    "# model_name = []\n",
    "# model_R_name = []"
   ]
  },
  {
   "cell_type": "markdown",
   "metadata": {},
   "source": [
    "### Plot model types vs score"
   ]
  },
  {
   "cell_type": "code",
   "execution_count": 68,
   "metadata": {},
   "outputs": [
    {
     "data": {
      "text/plain": [
       "[<matplotlib.lines.Line2D at 0x1865e8e9358>]"
      ]
     },
     "execution_count": 68,
     "metadata": {},
     "output_type": "execute_result"
    },
    {
     "data": {
      "image/png": "[encoded data removed]",
      "text/plain": [
       "<Figure size 1440x504 with 1 Axes>"
      ]
     },
     "metadata": {
      "needs_background": "light"
     },
     "output_type": "display_data"
    }
   ],
   "source": [
    "plt.figure(figsize=(20,7))\n",
    "plt.plot(model_name,score_array)"
   ]
  },
  {
   "cell_type": "markdown",
   "metadata": {
    "colab_type": "text",
    "id": "6infTuEs9fHC"
   },
   "source": [
    "## 7. Predication"
   ]
  },
  {
   "cell_type": "markdown",
   "metadata": {},
   "source": [
    "### Get max and min for each features"
   ]
  },
  {
   "cell_type": "code",
   "execution_count": 69,
   "metadata": {},
   "outputs": [
    {
     "data": {
      "text/html": [
       "<div>\n",
       "<style scoped>\n",
       "    .dataframe tbody tr th:only-of-type {\n",
       "        vertical-align: middle;\n",
       "    }\n",
       "\n",
       "    .dataframe tbody tr th {\n",
       "        vertical-align: top;\n",
       "    }\n",
       "\n",
       "    .dataframe thead th {\n",
       "        text-align: right;\n",
       "    }\n",
       "</style>\n",
       "<table border=\"1\" class=\"dataframe\">\n",
       "  <thead>\n",
       "    <tr style=\"text-align: right;\">\n",
       "      <th></th>\n",
       "      <th>budget</th>\n",
       "      <th>popularity</th>\n",
       "      <th>duration</th>\n",
       "      <th>num_voted_users</th>\n",
       "    </tr>\n",
       "  </thead>\n",
       "  <tbody>\n",
       "    <tr>\n",
       "      <th>7</th>\n",
       "      <td>280000000</td>\n",
       "      <td>134.279229</td>\n",
       "      <td>141.0</td>\n",
       "      <td>6767</td>\n",
       "    </tr>\n",
       "  </tbody>\n",
       "</table>\n",
       "</div>"
      ],
      "text/plain": [
       "      budget  popularity  duration  num_voted_users\n",
       "7  280000000  134.279229     141.0             6767"
      ]
     },
     "execution_count": 69,
     "metadata": {},
     "output_type": "execute_result"
    }
   ],
   "source": [
    "# max_value = X.describe().loc[['max']]\n",
    "# min_value = X.describe().loc[['min']]\n",
    "# # max_value = max_value.drop(columns=[\"revenue\"])\n",
    "# # min_value = min_value.drop(columns=[\"revenue\"])\n",
    "# max_value.info()\n",
    "\n",
    "\n",
    "pred_row = X.loc[[7],:]\n",
    "act_ans = y.loc[7]\n",
    "\n",
    "# a = pred_row.T\n",
    "# pd.DataFrame(pred_row.T)\n",
    "pred_row\n",
    "# pred_row.shape"
   ]
  },
  {
   "cell_type": "code",
   "execution_count": 70,
   "metadata": {},
   "outputs": [
    {
     "data": {
      "text/plain": [
       "1405403694"
      ]
     },
     "execution_count": 70,
     "metadata": {},
     "output_type": "execute_result"
    }
   ],
   "source": [
    "act_rev "
   ]
  },
  {
   "cell_type": "code",
   "execution_count": 71,
   "metadata": {},
   "outputs": [],
   "source": [
    "lin = linear_model.LinearRegression()\n",
    "lin.fit(X_train, y_train)\n",
    "lin_output = lin.predict(pred_row)"
   ]
  },
  {
   "cell_type": "markdown",
   "metadata": {},
   "source": [
    "### 7.1 Prediction for Random Forest"
   ]
  },
  {
   "cell_type": "code",
   "execution_count": 72,
   "metadata": {
    "scrolled": true
   },
   "outputs": [],
   "source": [
    "#RFC.predict(pred_row)"
   ]
  },
  {
   "cell_type": "markdown",
   "metadata": {},
   "source": [
    "### 7.1 Prediction for SVM"
   ]
  },
  {
   "cell_type": "code",
   "execution_count": 73,
   "metadata": {},
   "outputs": [],
   "source": [
    "SVM_output = SVM.predict(pred_row)\n",
    "# pred_row[\"predict\"] = SVM_output\n"
   ]
  },
  {
   "cell_type": "markdown",
   "metadata": {},
   "source": [
    "### 7.2 Prediction for Naive Bayes"
   ]
  },
  {
   "cell_type": "code",
   "execution_count": 74,
   "metadata": {},
   "outputs": [],
   "source": [
    "# NB_output = NB.predict(pred_row)\n"
   ]
  },
  {
   "cell_type": "markdown",
   "metadata": {},
   "source": [
    "### 7.3 Prediction for Random Forest Regression"
   ]
  },
  {
   "cell_type": "code",
   "execution_count": 75,
   "metadata": {},
   "outputs": [
    {
     "name": "stderr",
     "output_type": "stream",
     "text": [
      "C:\\Users\\Dr. Ir. Bala Kumar\\Anaconda3\\lib\\site-packages\\sklearn\\ensemble\\forest.py:246: FutureWarning: The default value of n_estimators will change from 10 in version 0.20 to 100 in 0.22.\n",
      "  \"10 in version 0.20 to 100 in 0.22.\", FutureWarning)\n"
     ]
    },
    {
     "data": {
      "text/plain": [
       "array([3.70151515])"
      ]
     },
     "execution_count": 75,
     "metadata": {},
     "output_type": "execute_result"
    }
   ],
   "source": [
    "rf = RandomForestRegressor(max_depth=5, random_state=10)\n",
    "rf.fit(X_train,y_train)\n",
    "\n",
    "rf_output =rf.predict(pred_row)\n",
    "rf_output\n",
    "# pred_output = pd.DataFrame(pred_output).values\n",
    "\n",
    "#['budget','popularity', 'duration', 'num_voted_users']"
   ]
  },
  {
   "cell_type": "code",
   "execution_count": 76,
   "metadata": {},
   "outputs": [
    {
     "name": "stdout",
     "output_type": "stream",
     "text": [
      "FOR SVM\n"
     ]
    },
    {
     "data": {
      "text/html": [
       "<div>\n",
       "<style scoped>\n",
       "    .dataframe tbody tr th:only-of-type {\n",
       "        vertical-align: middle;\n",
       "    }\n",
       "\n",
       "    .dataframe tbody tr th {\n",
       "        vertical-align: top;\n",
       "    }\n",
       "\n",
       "    .dataframe thead th {\n",
       "        text-align: right;\n",
       "    }\n",
       "</style>\n",
       "<table border=\"1\" class=\"dataframe\">\n",
       "  <thead>\n",
       "    <tr style=\"text-align: right;\">\n",
       "      <th></th>\n",
       "      <th>budget</th>\n",
       "      <th>popularity</th>\n",
       "      <th>duration</th>\n",
       "      <th>num_voted_users</th>\n",
       "      <th>predict</th>\n",
       "      <th>actual</th>\n",
       "    </tr>\n",
       "  </thead>\n",
       "  <tbody>\n",
       "    <tr>\n",
       "      <th>7</th>\n",
       "      <td>280000000</td>\n",
       "      <td>134.279229</td>\n",
       "      <td>141.0</td>\n",
       "      <td>6767</td>\n",
       "      <td>4</td>\n",
       "      <td>4</td>\n",
       "    </tr>\n",
       "  </tbody>\n",
       "</table>\n",
       "</div>"
      ],
      "text/plain": [
       "      budget  popularity  duration  num_voted_users  predict  actual\n",
       "7  280000000  134.279229     141.0             6767        4       4"
      ]
     },
     "execution_count": 76,
     "metadata": {},
     "output_type": "execute_result"
    }
   ],
   "source": [
    "\n",
    "# max_value[\"predict\"]=pred_max\n",
    "# min_value[\"predict\"]=pred_min\n",
    "# pd.concat([pred_row,pred_output],axis=1)\n",
    "print(\"FOR SVM\")\n",
    "pred_row[\"predict\"] = SVM_output\n",
    "pred_row[\"actual\"] = act_ans\n",
    "pred_row"
   ]
  },
  {
   "cell_type": "code",
   "execution_count": 77,
   "metadata": {},
   "outputs": [
    {
     "name": "stdout",
     "output_type": "stream",
     "text": [
      "FOR RF\n"
     ]
    },
    {
     "data": {
      "text/html": [
       "<div>\n",
       "<style scoped>\n",
       "    .dataframe tbody tr th:only-of-type {\n",
       "        vertical-align: middle;\n",
       "    }\n",
       "\n",
       "    .dataframe tbody tr th {\n",
       "        vertical-align: top;\n",
       "    }\n",
       "\n",
       "    .dataframe thead th {\n",
       "        text-align: right;\n",
       "    }\n",
       "</style>\n",
       "<table border=\"1\" class=\"dataframe\">\n",
       "  <thead>\n",
       "    <tr style=\"text-align: right;\">\n",
       "      <th></th>\n",
       "      <th>budget</th>\n",
       "      <th>popularity</th>\n",
       "      <th>duration</th>\n",
       "      <th>num_voted_users</th>\n",
       "      <th>predict</th>\n",
       "      <th>actual</th>\n",
       "    </tr>\n",
       "  </thead>\n",
       "  <tbody>\n",
       "    <tr>\n",
       "      <th>7</th>\n",
       "      <td>280000000</td>\n",
       "      <td>134.279229</td>\n",
       "      <td>141.0</td>\n",
       "      <td>6767</td>\n",
       "      <td>3.701515</td>\n",
       "      <td>4</td>\n",
       "    </tr>\n",
       "  </tbody>\n",
       "</table>\n",
       "</div>"
      ],
      "text/plain": [
       "      budget  popularity  duration  num_voted_users   predict  actual\n",
       "7  280000000  134.279229     141.0             6767  3.701515       4"
      ]
     },
     "execution_count": 77,
     "metadata": {},
     "output_type": "execute_result"
    }
   ],
   "source": [
    "pred_row = pred_row.drop(columns=[\"predict\"])\n",
    "pred_row = pred_row.drop(columns=[\"actual\"])\n",
    "print(\"FOR RF\")\n",
    "pred_row[\"predict\"] = rf_output\n",
    "pred_row[\"actual\"] = act_ans\n",
    "pred_row"
   ]
  },
  {
   "cell_type": "code",
   "execution_count": 78,
   "metadata": {},
   "outputs": [
    {
     "name": "stdout",
     "output_type": "stream",
     "text": [
      "FOR LINEAR REG\n"
     ]
    },
    {
     "data": {
      "text/html": [
       "<div>\n",
       "<style scoped>\n",
       "    .dataframe tbody tr th:only-of-type {\n",
       "        vertical-align: middle;\n",
       "    }\n",
       "\n",
       "    .dataframe tbody tr th {\n",
       "        vertical-align: top;\n",
       "    }\n",
       "\n",
       "    .dataframe thead th {\n",
       "        text-align: right;\n",
       "    }\n",
       "</style>\n",
       "<table border=\"1\" class=\"dataframe\">\n",
       "  <thead>\n",
       "    <tr style=\"text-align: right;\">\n",
       "      <th></th>\n",
       "      <th>budget</th>\n",
       "      <th>popularity</th>\n",
       "      <th>duration</th>\n",
       "      <th>num_voted_users</th>\n",
       "      <th>predict</th>\n",
       "      <th>actual</th>\n",
       "    </tr>\n",
       "  </thead>\n",
       "  <tbody>\n",
       "    <tr>\n",
       "      <th>7</th>\n",
       "      <td>280000000</td>\n",
       "      <td>134.279229</td>\n",
       "      <td>141.0</td>\n",
       "      <td>6767</td>\n",
       "      <td>1.982712e+07</td>\n",
       "      <td>1405403694</td>\n",
       "    </tr>\n",
       "  </tbody>\n",
       "</table>\n",
       "</div>"
      ],
      "text/plain": [
       "      budget  popularity  duration  num_voted_users       predict      actual\n",
       "7  280000000  134.279229     141.0             6767  1.982712e+07  1405403694"
      ]
     },
     "execution_count": 78,
     "metadata": {},
     "output_type": "execute_result"
    }
   ],
   "source": [
    "pred_row = pred_row.drop(columns=[\"predict\"])\n",
    "pred_row = pred_row.drop(columns=[\"actual\"])\n",
    "print(\"FOR LINEAR REG\")\n",
    "pred_row[\"predict\"] = lin_output\n",
    "pred_row[\"actual\"] = act_rev\n",
    "pred_row"
   ]
  },
  {
   "cell_type": "markdown",
   "metadata": {},
   "source": [
    "## Conclusion"
   ]
  },
  {
   "cell_type": "markdown",
   "metadata": {},
   "source": [
    "We tried to run the classification and regression model for prediction\n",
    "Classification gave us the range of the revenue\n",
    "Regression gave us the exact number of the revenue\n",
    "We believe classifier model is the most reliable model among the rest\n"
   ]
  }
 ],
 "metadata": {
  "colab": {
   "collapsed_sections": [],
   "name": "ML_Project_Latest 2.ipynb",
   "provenance": [],
   "version": "0.3.2"
  },
  "kernelspec": {
   "display_name": "Python 3",
   "language": "python",
   "name": "python3"
  },
  "language_info": {
   "codemirror_mode": {
    "name": "ipython",
    "version": 3
   },
   "file_extension": ".py",
   "mimetype": "text/x-python",
   "name": "python",
   "nbconvert_exporter": "python",
   "pygments_lexer": "ipython3",
   "version": "3.7.0"
  }
 },
 "nbformat": 4,
 "nbformat_minor": 1
}
